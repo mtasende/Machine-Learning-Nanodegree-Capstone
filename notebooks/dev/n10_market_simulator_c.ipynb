{
 "cells": [
  {
   "cell_type": "markdown",
   "metadata": {},
   "source": [
    "# In this notebook a complete simulation will be run"
   ]
  },
  {
   "cell_type": "code",
   "execution_count": 6,
   "metadata": {
    "collapsed": false
   },
   "outputs": [
    {
     "name": "stdout",
     "output_type": "stream",
     "text": [
      "Populating the interactive namespace from numpy and matplotlib\n",
      "The autoreload extension is already loaded. To reload it, use:\n",
      "  %reload_ext autoreload\n"
     ]
    }
   ],
   "source": [
    "# Basic imports\n",
    "import os\n",
    "import pandas as pd\n",
    "import matplotlib.pyplot as plt\n",
    "import numpy as np\n",
    "import datetime as dt\n",
    "import scipy.optimize as spo\n",
    "import sys\n",
    "from time import time\n",
    "from sklearn.metrics import r2_score, median_absolute_error\n",
    "\n",
    "%matplotlib inline\n",
    "\n",
    "%pylab inline\n",
    "pylab.rcParams['figure.figsize'] = (20.0, 10.0)\n",
    "\n",
    "%load_ext autoreload\n",
    "%autoreload 2\n",
    "\n",
    "sys.path.append('../../')"
   ]
  },
  {
   "cell_type": "code",
   "execution_count": 7,
   "metadata": {
    "collapsed": false
   },
   "outputs": [
    {
     "data": {
      "text/html": [
       "<div>\n",
       "<style>\n",
       "    .dataframe thead tr:only-child th {\n",
       "        text-align: right;\n",
       "    }\n",
       "\n",
       "    .dataframe thead th {\n",
       "        text-align: left;\n",
       "    }\n",
       "\n",
       "    .dataframe tbody tr th {\n",
       "        vertical-align: top;\n",
       "    }\n",
       "</style>\n",
       "<table border=\"1\" class=\"dataframe\">\n",
       "  <thead>\n",
       "    <tr style=\"text-align: right;\">\n",
       "      <th>feature</th>\n",
       "      <th>Close</th>\n",
       "      <th>High</th>\n",
       "      <th>Low</th>\n",
       "      <th>Open</th>\n",
       "      <th>Volume</th>\n",
       "    </tr>\n",
       "    <tr>\n",
       "      <th>date</th>\n",
       "      <th></th>\n",
       "      <th></th>\n",
       "      <th></th>\n",
       "      <th></th>\n",
       "      <th></th>\n",
       "    </tr>\n",
       "  </thead>\n",
       "  <tbody>\n",
       "    <tr>\n",
       "      <th>1993-01-29</th>\n",
       "      <td>2.12</td>\n",
       "      <td>2.19</td>\n",
       "      <td>2.11</td>\n",
       "      <td>0.0</td>\n",
       "      <td>66525200.0</td>\n",
       "    </tr>\n",
       "    <tr>\n",
       "      <th>1993-02-01</th>\n",
       "      <td>2.19</td>\n",
       "      <td>2.19</td>\n",
       "      <td>2.12</td>\n",
       "      <td>0.0</td>\n",
       "      <td>60138400.0</td>\n",
       "    </tr>\n",
       "    <tr>\n",
       "      <th>1993-02-02</th>\n",
       "      <td>2.15</td>\n",
       "      <td>2.20</td>\n",
       "      <td>2.15</td>\n",
       "      <td>0.0</td>\n",
       "      <td>45584000.0</td>\n",
       "    </tr>\n",
       "    <tr>\n",
       "      <th>1993-02-03</th>\n",
       "      <td>2.14</td>\n",
       "      <td>2.18</td>\n",
       "      <td>2.09</td>\n",
       "      <td>0.0</td>\n",
       "      <td>66046400.0</td>\n",
       "    </tr>\n",
       "    <tr>\n",
       "      <th>1993-02-04</th>\n",
       "      <td>2.12</td>\n",
       "      <td>2.15</td>\n",
       "      <td>2.11</td>\n",
       "      <td>0.0</td>\n",
       "      <td>52038000.0</td>\n",
       "    </tr>\n",
       "  </tbody>\n",
       "</table>\n",
       "</div>"
      ],
      "text/plain": [
       "feature     Close  High   Low  Open      Volume\n",
       "date                                           \n",
       "1993-01-29   2.12  2.19  2.11   0.0  66525200.0\n",
       "1993-02-01   2.19  2.19  2.12   0.0  60138400.0\n",
       "1993-02-02   2.15  2.20  2.15   0.0  45584000.0\n",
       "1993-02-03   2.14  2.18  2.09   0.0  66046400.0\n",
       "1993-02-04   2.12  2.15  2.11   0.0  52038000.0"
      ]
     },
     "execution_count": 7,
     "metadata": {},
     "output_type": "execute_result"
    }
   ],
   "source": [
    "from recommender.indicator import Indicator\n",
    "import recommender.indicator_functions as indf\n",
    "\n",
    "total_data_df = pd.read_pickle('../../data/data_df.pkl')\n",
    "SYMBOL = 'AAPL'\n",
    "data_df = total_data_df[SYMBOL].unstack()\n",
    "data_df.head()"
   ]
  },
  {
   "cell_type": "code",
   "execution_count": 8,
   "metadata": {
    "collapsed": false
   },
   "outputs": [
    {
     "data": {
      "text/html": [
       "<div>\n",
       "<style>\n",
       "    .dataframe thead tr:only-child th {\n",
       "        text-align: right;\n",
       "    }\n",
       "\n",
       "    .dataframe thead th {\n",
       "        text-align: left;\n",
       "    }\n",
       "\n",
       "    .dataframe tbody tr th {\n",
       "        vertical-align: top;\n",
       "    }\n",
       "</style>\n",
       "<table border=\"1\" class=\"dataframe\">\n",
       "  <thead>\n",
       "    <tr style=\"text-align: right;\">\n",
       "      <th></th>\n",
       "      <th>SPY</th>\n",
       "      <th>MMM</th>\n",
       "      <th>ABT</th>\n",
       "      <th>ABBV</th>\n",
       "      <th>ACN</th>\n",
       "      <th>ATVI</th>\n",
       "      <th>AYI</th>\n",
       "      <th>ADBE</th>\n",
       "      <th>AMD</th>\n",
       "      <th>AAP</th>\n",
       "      <th>...</th>\n",
       "      <th>XEL</th>\n",
       "      <th>XRX</th>\n",
       "      <th>XLNX</th>\n",
       "      <th>XL</th>\n",
       "      <th>XYL</th>\n",
       "      <th>YHOO</th>\n",
       "      <th>YUM</th>\n",
       "      <th>ZBH</th>\n",
       "      <th>ZION</th>\n",
       "      <th>ZTS</th>\n",
       "    </tr>\n",
       "    <tr>\n",
       "      <th>date</th>\n",
       "      <th></th>\n",
       "      <th></th>\n",
       "      <th></th>\n",
       "      <th></th>\n",
       "      <th></th>\n",
       "      <th></th>\n",
       "      <th></th>\n",
       "      <th></th>\n",
       "      <th></th>\n",
       "      <th></th>\n",
       "      <th></th>\n",
       "      <th></th>\n",
       "      <th></th>\n",
       "      <th></th>\n",
       "      <th></th>\n",
       "      <th></th>\n",
       "      <th></th>\n",
       "      <th></th>\n",
       "      <th></th>\n",
       "      <th></th>\n",
       "      <th></th>\n",
       "    </tr>\n",
       "  </thead>\n",
       "  <tbody>\n",
       "    <tr>\n",
       "      <th>1993-01-29</th>\n",
       "      <td>43.94</td>\n",
       "      <td>24.50</td>\n",
       "      <td>6.88</td>\n",
       "      <td>NaN</td>\n",
       "      <td>NaN</td>\n",
       "      <td>NaN</td>\n",
       "      <td>NaN</td>\n",
       "      <td>2.59</td>\n",
       "      <td>18.75</td>\n",
       "      <td>NaN</td>\n",
       "      <td>...</td>\n",
       "      <td>22.00</td>\n",
       "      <td>14.28</td>\n",
       "      <td>2.50</td>\n",
       "      <td>NaN</td>\n",
       "      <td>NaN</td>\n",
       "      <td>NaN</td>\n",
       "      <td>NaN</td>\n",
       "      <td>NaN</td>\n",
       "      <td>10.94</td>\n",
       "      <td>NaN</td>\n",
       "    </tr>\n",
       "    <tr>\n",
       "      <th>1993-02-01</th>\n",
       "      <td>44.25</td>\n",
       "      <td>24.69</td>\n",
       "      <td>6.88</td>\n",
       "      <td>NaN</td>\n",
       "      <td>NaN</td>\n",
       "      <td>NaN</td>\n",
       "      <td>NaN</td>\n",
       "      <td>2.72</td>\n",
       "      <td>19.12</td>\n",
       "      <td>NaN</td>\n",
       "      <td>...</td>\n",
       "      <td>22.19</td>\n",
       "      <td>14.09</td>\n",
       "      <td>2.62</td>\n",
       "      <td>NaN</td>\n",
       "      <td>NaN</td>\n",
       "      <td>NaN</td>\n",
       "      <td>NaN</td>\n",
       "      <td>NaN</td>\n",
       "      <td>11.06</td>\n",
       "      <td>NaN</td>\n",
       "    </tr>\n",
       "    <tr>\n",
       "      <th>1993-02-02</th>\n",
       "      <td>44.34</td>\n",
       "      <td>24.72</td>\n",
       "      <td>6.53</td>\n",
       "      <td>NaN</td>\n",
       "      <td>NaN</td>\n",
       "      <td>NaN</td>\n",
       "      <td>NaN</td>\n",
       "      <td>2.84</td>\n",
       "      <td>20.25</td>\n",
       "      <td>NaN</td>\n",
       "      <td>...</td>\n",
       "      <td>22.06</td>\n",
       "      <td>14.09</td>\n",
       "      <td>2.64</td>\n",
       "      <td>NaN</td>\n",
       "      <td>NaN</td>\n",
       "      <td>NaN</td>\n",
       "      <td>NaN</td>\n",
       "      <td>NaN</td>\n",
       "      <td>11.12</td>\n",
       "      <td>NaN</td>\n",
       "    </tr>\n",
       "    <tr>\n",
       "      <th>1993-02-03</th>\n",
       "      <td>44.81</td>\n",
       "      <td>25.19</td>\n",
       "      <td>6.91</td>\n",
       "      <td>NaN</td>\n",
       "      <td>NaN</td>\n",
       "      <td>NaN</td>\n",
       "      <td>NaN</td>\n",
       "      <td>2.70</td>\n",
       "      <td>20.50</td>\n",
       "      <td>NaN</td>\n",
       "      <td>...</td>\n",
       "      <td>22.38</td>\n",
       "      <td>14.03</td>\n",
       "      <td>2.68</td>\n",
       "      <td>NaN</td>\n",
       "      <td>NaN</td>\n",
       "      <td>NaN</td>\n",
       "      <td>NaN</td>\n",
       "      <td>NaN</td>\n",
       "      <td>11.25</td>\n",
       "      <td>NaN</td>\n",
       "    </tr>\n",
       "    <tr>\n",
       "      <th>1993-02-04</th>\n",
       "      <td>45.00</td>\n",
       "      <td>26.06</td>\n",
       "      <td>6.84</td>\n",
       "      <td>NaN</td>\n",
       "      <td>NaN</td>\n",
       "      <td>NaN</td>\n",
       "      <td>NaN</td>\n",
       "      <td>2.73</td>\n",
       "      <td>20.12</td>\n",
       "      <td>NaN</td>\n",
       "      <td>...</td>\n",
       "      <td>22.81</td>\n",
       "      <td>14.15</td>\n",
       "      <td>2.67</td>\n",
       "      <td>NaN</td>\n",
       "      <td>NaN</td>\n",
       "      <td>NaN</td>\n",
       "      <td>NaN</td>\n",
       "      <td>NaN</td>\n",
       "      <td>11.69</td>\n",
       "      <td>NaN</td>\n",
       "    </tr>\n",
       "  </tbody>\n",
       "</table>\n",
       "<p>5 rows × 503 columns</p>\n",
       "</div>"
      ],
      "text/plain": [
       "              SPY    MMM   ABT  ABBV  ACN  ATVI  AYI  ADBE    AMD  AAP ...   \\\n",
       "date                                                                   ...    \n",
       "1993-01-29  43.94  24.50  6.88   NaN  NaN   NaN  NaN  2.59  18.75  NaN ...    \n",
       "1993-02-01  44.25  24.69  6.88   NaN  NaN   NaN  NaN  2.72  19.12  NaN ...    \n",
       "1993-02-02  44.34  24.72  6.53   NaN  NaN   NaN  NaN  2.84  20.25  NaN ...    \n",
       "1993-02-03  44.81  25.19  6.91   NaN  NaN   NaN  NaN  2.70  20.50  NaN ...    \n",
       "1993-02-04  45.00  26.06  6.84   NaN  NaN   NaN  NaN  2.73  20.12  NaN ...    \n",
       "\n",
       "              XEL    XRX  XLNX  XL  XYL  YHOO  YUM  ZBH   ZION  ZTS  \n",
       "date                                                                 \n",
       "1993-01-29  22.00  14.28  2.50 NaN  NaN   NaN  NaN  NaN  10.94  NaN  \n",
       "1993-02-01  22.19  14.09  2.62 NaN  NaN   NaN  NaN  NaN  11.06  NaN  \n",
       "1993-02-02  22.06  14.09  2.64 NaN  NaN   NaN  NaN  NaN  11.12  NaN  \n",
       "1993-02-03  22.38  14.03  2.68 NaN  NaN   NaN  NaN  NaN  11.25  NaN  \n",
       "1993-02-04  22.81  14.15  2.67 NaN  NaN   NaN  NaN  NaN  11.69  NaN  \n",
       "\n",
       "[5 rows x 503 columns]"
      ]
     },
     "execution_count": 8,
     "metadata": {},
     "output_type": "execute_result"
    }
   ],
   "source": [
    "close_df = total_data_df.xs('Close', level='feature')\n",
    "close_df.head()"
   ]
  },
  {
   "cell_type": "code",
   "execution_count": 9,
   "metadata": {
    "collapsed": false
   },
   "outputs": [
    {
     "data": {
      "text/html": [
       "<div>\n",
       "<style>\n",
       "    .dataframe thead tr:only-child th {\n",
       "        text-align: right;\n",
       "    }\n",
       "\n",
       "    .dataframe thead th {\n",
       "        text-align: left;\n",
       "    }\n",
       "\n",
       "    .dataframe tbody tr th {\n",
       "        vertical-align: top;\n",
       "    }\n",
       "</style>\n",
       "<table border=\"1\" class=\"dataframe\">\n",
       "  <thead>\n",
       "    <tr style=\"text-align: right;\">\n",
       "      <th></th>\n",
       "      <th></th>\n",
       "      <th>SPY</th>\n",
       "      <th>MMM</th>\n",
       "      <th>ABT</th>\n",
       "      <th>ABBV</th>\n",
       "      <th>ACN</th>\n",
       "      <th>ATVI</th>\n",
       "      <th>AYI</th>\n",
       "      <th>ADBE</th>\n",
       "      <th>AMD</th>\n",
       "      <th>AAP</th>\n",
       "      <th>...</th>\n",
       "      <th>XEL</th>\n",
       "      <th>XRX</th>\n",
       "      <th>XLNX</th>\n",
       "      <th>XL</th>\n",
       "      <th>XYL</th>\n",
       "      <th>YHOO</th>\n",
       "      <th>YUM</th>\n",
       "      <th>ZBH</th>\n",
       "      <th>ZION</th>\n",
       "      <th>ZTS</th>\n",
       "    </tr>\n",
       "    <tr>\n",
       "      <th>date</th>\n",
       "      <th>feature</th>\n",
       "      <th></th>\n",
       "      <th></th>\n",
       "      <th></th>\n",
       "      <th></th>\n",
       "      <th></th>\n",
       "      <th></th>\n",
       "      <th></th>\n",
       "      <th></th>\n",
       "      <th></th>\n",
       "      <th></th>\n",
       "      <th></th>\n",
       "      <th></th>\n",
       "      <th></th>\n",
       "      <th></th>\n",
       "      <th></th>\n",
       "      <th></th>\n",
       "      <th></th>\n",
       "      <th></th>\n",
       "      <th></th>\n",
       "      <th></th>\n",
       "      <th></th>\n",
       "    </tr>\n",
       "  </thead>\n",
       "  <tbody>\n",
       "    <tr>\n",
       "      <th rowspan=\"5\" valign=\"top\">1993-01-29</th>\n",
       "      <th>Open</th>\n",
       "      <td>0.00</td>\n",
       "      <td>0.00</td>\n",
       "      <td>0.00</td>\n",
       "      <td>NaN</td>\n",
       "      <td>NaN</td>\n",
       "      <td>NaN</td>\n",
       "      <td>NaN</td>\n",
       "      <td>0.00</td>\n",
       "      <td>0.00</td>\n",
       "      <td>NaN</td>\n",
       "      <td>...</td>\n",
       "      <td>0.00</td>\n",
       "      <td>0.00</td>\n",
       "      <td>0.00</td>\n",
       "      <td>NaN</td>\n",
       "      <td>NaN</td>\n",
       "      <td>NaN</td>\n",
       "      <td>NaN</td>\n",
       "      <td>NaN</td>\n",
       "      <td>0.00</td>\n",
       "      <td>NaN</td>\n",
       "    </tr>\n",
       "    <tr>\n",
       "      <th>High</th>\n",
       "      <td>43.97</td>\n",
       "      <td>24.62</td>\n",
       "      <td>6.88</td>\n",
       "      <td>NaN</td>\n",
       "      <td>NaN</td>\n",
       "      <td>NaN</td>\n",
       "      <td>NaN</td>\n",
       "      <td>2.64</td>\n",
       "      <td>19.12</td>\n",
       "      <td>NaN</td>\n",
       "      <td>...</td>\n",
       "      <td>22.00</td>\n",
       "      <td>14.32</td>\n",
       "      <td>2.50</td>\n",
       "      <td>NaN</td>\n",
       "      <td>NaN</td>\n",
       "      <td>NaN</td>\n",
       "      <td>NaN</td>\n",
       "      <td>NaN</td>\n",
       "      <td>10.94</td>\n",
       "      <td>NaN</td>\n",
       "    </tr>\n",
       "    <tr>\n",
       "      <th>Low</th>\n",
       "      <td>43.75</td>\n",
       "      <td>24.47</td>\n",
       "      <td>6.75</td>\n",
       "      <td>NaN</td>\n",
       "      <td>NaN</td>\n",
       "      <td>NaN</td>\n",
       "      <td>NaN</td>\n",
       "      <td>2.56</td>\n",
       "      <td>18.62</td>\n",
       "      <td>NaN</td>\n",
       "      <td>...</td>\n",
       "      <td>21.88</td>\n",
       "      <td>13.84</td>\n",
       "      <td>2.46</td>\n",
       "      <td>NaN</td>\n",
       "      <td>NaN</td>\n",
       "      <td>NaN</td>\n",
       "      <td>NaN</td>\n",
       "      <td>NaN</td>\n",
       "      <td>10.62</td>\n",
       "      <td>NaN</td>\n",
       "    </tr>\n",
       "    <tr>\n",
       "      <th>Close</th>\n",
       "      <td>43.94</td>\n",
       "      <td>24.50</td>\n",
       "      <td>6.88</td>\n",
       "      <td>NaN</td>\n",
       "      <td>NaN</td>\n",
       "      <td>NaN</td>\n",
       "      <td>NaN</td>\n",
       "      <td>2.59</td>\n",
       "      <td>18.75</td>\n",
       "      <td>NaN</td>\n",
       "      <td>...</td>\n",
       "      <td>22.00</td>\n",
       "      <td>14.28</td>\n",
       "      <td>2.50</td>\n",
       "      <td>NaN</td>\n",
       "      <td>NaN</td>\n",
       "      <td>NaN</td>\n",
       "      <td>NaN</td>\n",
       "      <td>NaN</td>\n",
       "      <td>10.94</td>\n",
       "      <td>NaN</td>\n",
       "    </tr>\n",
       "    <tr>\n",
       "      <th>Volume</th>\n",
       "      <td>1003200.00</td>\n",
       "      <td>1242800.00</td>\n",
       "      <td>4638400.00</td>\n",
       "      <td>NaN</td>\n",
       "      <td>NaN</td>\n",
       "      <td>NaN</td>\n",
       "      <td>NaN</td>\n",
       "      <td>4990400.00</td>\n",
       "      <td>730600.00</td>\n",
       "      <td>NaN</td>\n",
       "      <td>...</td>\n",
       "      <td>87800.00</td>\n",
       "      <td>7633602.00</td>\n",
       "      <td>1745196.00</td>\n",
       "      <td>NaN</td>\n",
       "      <td>NaN</td>\n",
       "      <td>NaN</td>\n",
       "      <td>NaN</td>\n",
       "      <td>NaN</td>\n",
       "      <td>33600.00</td>\n",
       "      <td>NaN</td>\n",
       "    </tr>\n",
       "  </tbody>\n",
       "</table>\n",
       "<p>5 rows × 503 columns</p>\n",
       "</div>"
      ],
      "text/plain": [
       "                           SPY         MMM         ABT  ABBV  ACN  ATVI  AYI  \\\n",
       "date       feature                                                             \n",
       "1993-01-29 Open           0.00        0.00        0.00   NaN  NaN   NaN  NaN   \n",
       "           High          43.97       24.62        6.88   NaN  NaN   NaN  NaN   \n",
       "           Low           43.75       24.47        6.75   NaN  NaN   NaN  NaN   \n",
       "           Close         43.94       24.50        6.88   NaN  NaN   NaN  NaN   \n",
       "           Volume   1003200.00  1242800.00  4638400.00   NaN  NaN   NaN  NaN   \n",
       "\n",
       "                          ADBE        AMD  AAP ...        XEL         XRX  \\\n",
       "date       feature                             ...                          \n",
       "1993-01-29 Open           0.00       0.00  NaN ...       0.00        0.00   \n",
       "           High           2.64      19.12  NaN ...      22.00       14.32   \n",
       "           Low            2.56      18.62  NaN ...      21.88       13.84   \n",
       "           Close          2.59      18.75  NaN ...      22.00       14.28   \n",
       "           Volume   4990400.00  730600.00  NaN ...   87800.00  7633602.00   \n",
       "\n",
       "                          XLNX  XL  XYL  YHOO  YUM  ZBH      ZION  ZTS  \n",
       "date       feature                                                      \n",
       "1993-01-29 Open           0.00 NaN  NaN   NaN  NaN  NaN      0.00  NaN  \n",
       "           High           2.50 NaN  NaN   NaN  NaN  NaN     10.94  NaN  \n",
       "           Low            2.46 NaN  NaN   NaN  NaN  NaN     10.62  NaN  \n",
       "           Close          2.50 NaN  NaN   NaN  NaN  NaN     10.94  NaN  \n",
       "           Volume   1745196.00 NaN  NaN   NaN  NaN  NaN  33600.00  NaN  \n",
       "\n",
       "[5 rows x 503 columns]"
      ]
     },
     "execution_count": 9,
     "metadata": {},
     "output_type": "execute_result"
    }
   ],
   "source": [
    "total_data_df.head()"
   ]
  },
  {
   "cell_type": "code",
   "execution_count": 10,
   "metadata": {
    "collapsed": false
   },
   "outputs": [],
   "source": [
    "ind1 = Indicator(indf.z_score, indf.z_score_vec, q_levels=arange(-2.0, 2.0, 0.2).tolist(), data_df=data_df)\n",
    "ind2 = Indicator(indf.rsi, indf.rsi_vec, q_levels=arange(-2.0, 2.0, 0.2).tolist(), data_df=data_df)\n",
    "ind3 = Indicator(indf.on_volume_balance, indf.on_volume_balance_vec, q_levels=arange(-2.0, 2.0, 0.2).tolist(), data_df=data_df)\n",
    "indicators = {'ind1': ind1,\n",
    "              'ind2': ind2,\n",
    "              'ind3': ind3}"
   ]
  },
  {
   "cell_type": "markdown",
   "metadata": {},
   "source": [
    "### A very simple environment with a simple agent"
   ]
  },
  {
   "cell_type": "code",
   "execution_count": 11,
   "metadata": {
    "collapsed": false
   },
   "outputs": [],
   "source": [
    "from recommender.environment import Environment\n",
    "INITIAL_CAP = 100\n",
    "\n",
    "env = Environment(total_data_df, indicators=indicators, initial_cap=INITIAL_CAP)"
   ]
  },
  {
   "cell_type": "code",
   "execution_count": 12,
   "metadata": {
    "collapsed": false
   },
   "outputs": [],
   "source": [
    "from recommender.agent import Agent\n",
    "\n",
    "num_states = (len(ind1.q_levels)+1) * (len(ind2.q_levels)+1) * (len(ind3.q_levels)+1)\n",
    "num_actions = 3  # Buy or sell all, or do nothing.\n",
    "\n",
    "agent = Agent(num_states=num_states, \n",
    "              num_actions=num_actions, \n",
    "              random_actions_rate=0.98, \n",
    "              random_actions_decrease=0.999,\n",
    "              dyna_iterations=20)"
   ]
  },
  {
   "cell_type": "code",
   "execution_count": 13,
   "metadata": {
    "collapsed": true
   },
   "outputs": [],
   "source": [
    "from recommender.order import Order\n",
    "\n",
    "action_0 = [Order(['AAPL',Order.BUY, 100])]\n",
    "action_1 = [Order(['AAPL',Order.SELL, 100])]\n",
    "action_2 = [Order(['AAPL',Order.NOTHING, 0])]\n",
    "\n",
    "actions = {0: action_0,\n",
    "           1: action_1,\n",
    "           2: action_2,}"
   ]
  },
  {
   "cell_type": "code",
   "execution_count": 14,
   "metadata": {
    "collapsed": false
   },
   "outputs": [
    {
     "data": {
      "text/plain": [
       "Timestamp('1994-01-27 00:00:00')"
      ]
     },
     "execution_count": 14,
     "metadata": {},
     "output_type": "execute_result"
    }
   ],
   "source": [
    "data_df.index[252]"
   ]
  },
  {
   "cell_type": "code",
   "execution_count": 15,
   "metadata": {
    "collapsed": false
   },
   "outputs": [],
   "source": [
    "# Initialization\n",
    "\n",
    "env.portfolio.set_current_date(data_df.index[252])\n",
    "initial_state = env.get_state()\n",
    "action = agent.play_learned_response(initial_state)"
   ]
  },
  {
   "cell_type": "code",
   "execution_count": 16,
   "metadata": {
    "collapsed": false
   },
   "outputs": [
    {
     "data": {
      "text/plain": [
       "[symbol    AAPL\n",
       " order     SELL\n",
       " shares     100\n",
       " dtype: object]"
      ]
     },
     "execution_count": 16,
     "metadata": {},
     "output_type": "execute_result"
    }
   ],
   "source": [
    "actions[action]"
   ]
  },
  {
   "cell_type": "code",
   "execution_count": 17,
   "metadata": {
    "collapsed": false
   },
   "outputs": [
    {
     "name": "stdout",
     "output_type": "stream",
     "text": [
      "Elapsed time: 260.1241807937622s\n"
     ]
    }
   ],
   "source": [
    "import time\n",
    "# TODO: Change N_iters to the whole period of data_df\n",
    "# TODO: copy the code to a function that can be called from an outside loop.\n",
    "N_iters = 5000\n",
    "\n",
    "tic = time.time()\n",
    "for i in range(N_iters):\n",
    "# while X\n",
    "    reward, new_state = env.get_consequences(actions[action])\n",
    "    action = agent.play(reward, new_state)\n",
    "\n",
    "# Show results\n",
    "    #print('date={}\\n'.format(env.portfolio.current_date))\n",
    "    #print('reward={} \\n\\nnew_state={} \\n\\naction=\\n{}'.format(reward, new_state, actions[action]))\n",
    "    #print('-'*70 + '\\n\\n')\n",
    "    #time.sleep(0.5)\n",
    "toc = time.time()\n",
    "print('Elapsed time: {}s'.format(toc-tic))\n"
   ]
  },
  {
   "cell_type": "code",
   "execution_count": 18,
   "metadata": {
    "collapsed": false
   },
   "outputs": [
    {
     "data": {
      "text/html": [
       "<div>\n",
       "<style>\n",
       "    .dataframe thead tr:only-child th {\n",
       "        text-align: right;\n",
       "    }\n",
       "\n",
       "    .dataframe thead th {\n",
       "        text-align: left;\n",
       "    }\n",
       "\n",
       "    .dataframe tbody tr th {\n",
       "        vertical-align: top;\n",
       "    }\n",
       "</style>\n",
       "<table border=\"1\" class=\"dataframe\">\n",
       "  <thead>\n",
       "    <tr style=\"text-align: right;\">\n",
       "      <th></th>\n",
       "      <th>shares</th>\n",
       "      <th>value</th>\n",
       "    </tr>\n",
       "  </thead>\n",
       "  <tbody>\n",
       "    <tr>\n",
       "      <th>AAPL</th>\n",
       "      <td>-4700.0</td>\n",
       "      <td>-380324.0</td>\n",
       "    </tr>\n",
       "    <tr>\n",
       "      <th>CASH</th>\n",
       "      <td>-23376.0</td>\n",
       "      <td>-23376.0</td>\n",
       "    </tr>\n",
       "  </tbody>\n",
       "</table>\n",
       "</div>"
      ],
      "text/plain": [
       "       shares     value\n",
       "AAPL  -4700.0 -380324.0\n",
       "CASH -23376.0  -23376.0"
      ]
     },
     "execution_count": 18,
     "metadata": {},
     "output_type": "execute_result"
    }
   ],
   "source": [
    "env.portfolio.get_positions()"
   ]
  },
  {
   "cell_type": "code",
   "execution_count": 19,
   "metadata": {
    "collapsed": false
   },
   "outputs": [
    {
     "data": {
      "text/plain": [
       "-403700.0"
      ]
     },
     "execution_count": 19,
     "metadata": {},
     "output_type": "execute_result"
    }
   ],
   "source": [
    "env.portfolio.get_positions()['value'].sum()"
   ]
  },
  {
   "cell_type": "code",
   "execution_count": 20,
   "metadata": {
    "collapsed": false
   },
   "outputs": [
    {
     "data": {
      "text/plain": [
       "Timestamp('2013-12-09 00:00:00')"
      ]
     },
     "execution_count": 20,
     "metadata": {},
     "output_type": "execute_result"
    }
   ],
   "source": [
    "env.portfolio.current_date"
   ]
  },
  {
   "cell_type": "code",
   "execution_count": 21,
   "metadata": {
    "collapsed": false
   },
   "outputs": [
    {
     "data": {
      "text/plain": [
       "38.169811320754718"
      ]
     },
     "execution_count": 21,
     "metadata": {},
     "output_type": "execute_result"
    }
   ],
   "source": [
    "(data_df.loc[env.portfolio.current_date] / data_df.iloc[0])['Close']"
   ]
  },
  {
   "cell_type": "code",
   "execution_count": 22,
   "metadata": {
    "collapsed": false
   },
   "outputs": [
    {
     "data": {
      "text/plain": [
       "-4037.0"
      ]
     },
     "execution_count": 22,
     "metadata": {},
     "output_type": "execute_result"
    }
   ],
   "source": [
    "env.portfolio.get_positions()['value'].sum() / INITIAL_CAP"
   ]
  },
  {
   "cell_type": "markdown",
   "metadata": {
    "collapsed": true
   },
   "source": [
    "## Let's resume that in a function"
   ]
  },
  {
   "cell_type": "code",
   "execution_count": 23,
   "metadata": {
    "collapsed": true
   },
   "outputs": [],
   "source": [
    "def simulate_one_step(action):\n",
    "    reward, new_state = env.get_consequences(actions[action])\n",
    "    return agent.play(reward, new_state)"
   ]
  },
  {
   "cell_type": "code",
   "execution_count": 24,
   "metadata": {
    "collapsed": false
   },
   "outputs": [],
   "source": [
    "from recommender.indicator import Indicator\n",
    "import recommender.indicator_functions as indf\n",
    "\n",
    "\n",
    "def create_indicators(data_df):\n",
    "    \"\"\"\n",
    "    Particular function to create a series of indicators.\n",
    "    To remove one just comment it's line.\n",
    "    \"\"\"\n",
    "    indicators = {}\n",
    "    indicators['z_score'] = Indicator(indf.z_score, indf.z_score_vec, q_levels=arange(-2.0, 2.0, 0.4).tolist(), data_df=data_df)\n",
    "    indicators['rsi'] = Indicator(indf.rsi, indf.rsi_vec, q_levels=arange(-2.0, 2.0, 0.4).tolist(), data_df=data_df)\n",
    "    indicators['on_volume_balance'] = Indicator(indf.on_volume_balance, indf.on_volume_balance_vec, q_levels=arange(-2.0, 2.0, 0.4).tolist(), data_df=data_df)\n",
    "    return indicators"
   ]
  },
  {
   "cell_type": "code",
   "execution_count": 25,
   "metadata": {
    "collapsed": true
   },
   "outputs": [],
   "source": [
    "def get_num_states(indicators):\n",
    "    acum = 1\n",
    "    for ind in indicators.values():\n",
    "        acum *= len(ind.q_levels) + 1\n",
    "    return acum"
   ]
  },
  {
   "cell_type": "code",
   "execution_count": 26,
   "metadata": {
    "collapsed": false
   },
   "outputs": [
    {
     "name": "stdout",
     "output_type": "stream",
     "text": [
      "9261\n"
     ]
    },
    {
     "data": {
      "text/plain": [
       "9261"
      ]
     },
     "execution_count": 26,
     "metadata": {},
     "output_type": "execute_result"
    }
   ],
   "source": [
    "print(num_states)\n",
    "get_num_states(indicators)"
   ]
  },
  {
   "cell_type": "code",
   "execution_count": 27,
   "metadata": {
    "collapsed": false
   },
   "outputs": [
    {
     "data": {
      "text/plain": [
       "115.81999999999999"
      ]
     },
     "execution_count": 27,
     "metadata": {},
     "output_type": "execute_result"
    }
   ],
   "source": [
    "current_price = data_df['Close'].iloc[-1]\n",
    "current_price"
   ]
  },
  {
   "cell_type": "code",
   "execution_count": 28,
   "metadata": {
    "collapsed": true
   },
   "outputs": [],
   "source": [
    "capital = 10000"
   ]
  },
  {
   "cell_type": "code",
   "execution_count": 29,
   "metadata": {
    "collapsed": false
   },
   "outputs": [
    {
     "data": {
      "text/plain": [
       "-4700.0"
      ]
     },
     "execution_count": 29,
     "metadata": {},
     "output_type": "execute_result"
    }
   ],
   "source": [
    "import recommender.portfolio as pf\n",
    "\n",
    "positions = env.portfolio.get_positions()\n",
    "positions.loc[SYMBOL, pf.SHARES]"
   ]
  },
  {
   "cell_type": "code",
   "execution_count": 30,
   "metadata": {
    "collapsed": false
   },
   "outputs": [
    {
     "data": {
      "text/plain": [
       "80.920000000000002"
      ]
     },
     "execution_count": 30,
     "metadata": {},
     "output_type": "execute_result"
    }
   ],
   "source": [
    "self = env.portfolio\n",
    "current_price = self.close_df.loc[self.current_date][SYMBOL]\n",
    "current_price"
   ]
  },
  {
   "cell_type": "code",
   "execution_count": 31,
   "metadata": {
    "collapsed": false
   },
   "outputs": [
    {
     "data": {
      "text/plain": [
       "-403700.0"
      ]
     },
     "execution_count": 31,
     "metadata": {},
     "output_type": "execute_result"
    }
   ],
   "source": [
    "self.get_total_value()"
   ]
  },
  {
   "cell_type": "code",
   "execution_count": 32,
   "metadata": {
    "collapsed": false
   },
   "outputs": [
    {
     "data": {
      "text/plain": [
       "-1.0"
      ]
     },
     "execution_count": 32,
     "metadata": {},
     "output_type": "execute_result"
    }
   ],
   "source": [
    "np.round(-1.2)"
   ]
  },
  {
   "cell_type": "code",
   "execution_count": 33,
   "metadata": {
    "collapsed": true
   },
   "outputs": [],
   "source": [
    "target_fraction = 0.3"
   ]
  },
  {
   "cell_type": "code",
   "execution_count": 34,
   "metadata": {
    "collapsed": false
   },
   "outputs": [
    {
     "data": {
      "text/plain": [
       "-1497.0"
      ]
     },
     "execution_count": 34,
     "metadata": {},
     "output_type": "execute_result"
    }
   ],
   "source": [
    "np.round(self.get_total_value()*target_fraction/current_price)"
   ]
  },
  {
   "cell_type": "code",
   "execution_count": 35,
   "metadata": {
    "collapsed": false
   },
   "outputs": [],
   "source": [
    "# Instance function of the class portfolio (positions are previously defined in the instance)\n",
    "\n",
    "def order_target(target_fraction):\n",
    "    current_price = self.close_df.loc[self.current_date][SYMBOL]\n",
    "    return np.round(self.get_total_value()*target_fraction/current_price)"
   ]
  },
  {
   "cell_type": "code",
   "execution_count": 36,
   "metadata": {
    "collapsed": false
   },
   "outputs": [
    {
     "data": {
      "text/plain": [
       "-1497.0"
      ]
     },
     "execution_count": 36,
     "metadata": {},
     "output_type": "execute_result"
    }
   ],
   "source": [
    "order_target(0.3)"
   ]
  },
  {
   "cell_type": "code",
   "execution_count": 37,
   "metadata": {
    "collapsed": false
   },
   "outputs": [
    {
     "data": {
      "text/plain": [
       "-3492.0"
      ]
     },
     "execution_count": 37,
     "metadata": {},
     "output_type": "execute_result"
    }
   ],
   "source": [
    "order_target(0.7)"
   ]
  },
  {
   "cell_type": "code",
   "execution_count": 38,
   "metadata": {
    "collapsed": true
   },
   "outputs": [],
   "source": [
    "self = env"
   ]
  },
  {
   "cell_type": "code",
   "execution_count": 39,
   "metadata": {
    "collapsed": true
   },
   "outputs": [],
   "source": [
    "from recommender.quantizer import Quantizer\n",
    "\n",
    "actions_fractions = Quantizer(np.arange(-1.0, 1.0, 0.1).round(decimals=3).tolist())"
   ]
  },
  {
   "cell_type": "code",
   "execution_count": 40,
   "metadata": {
    "collapsed": false
   },
   "outputs": [
    {
     "data": {
      "text/plain": [
       "-4700.0"
      ]
     },
     "execution_count": 40,
     "metadata": {},
     "output_type": "execute_result"
    }
   ],
   "source": [
    "from recommender.portfolio import SHARES\n",
    "\n",
    "previous_shares = self.portfolio.get_positions().loc[SYMBOL, SHARES]\n",
    "previous_shares"
   ]
  },
  {
   "cell_type": "code",
   "execution_count": 41,
   "metadata": {
    "collapsed": false
   },
   "outputs": [],
   "source": [
    "# Instance function of the class Environment (positions are previously defined in the instance)\n",
    "\n",
    "def act_to_target(target_fraction):\n",
    "    current_price = self.portfolio.close_df.loc[self.portfolio.current_date][self.symbol]\n",
    "    wanted_shares = np.fix(self.portfolio.get_total_value() * \\\n",
    "                           actions_fractions.get_quantized_value(target_fraction)/current_price)\n",
    "    previous_shares = self.portfolio.get_positions().loc[self.symbol, pf.SHARES]\n",
    "    shares_increase = wanted_shares - previous_shares\n",
    "    action = [Order([self.symbol, Order.BUY, shares_increase])]\n",
    "    return self.get_consequences(action)"
   ]
  },
  {
   "cell_type": "code",
   "execution_count": 42,
   "metadata": {
    "collapsed": false
   },
   "outputs": [
    {
     "name": "stdout",
     "output_type": "stream",
     "text": [
      "(389.0899999999674, 6543)\n",
      "         shares      value\n",
      "AAPL   -2993.00 -241804.47\n",
      "CASH -161506.44 -161506.44\n",
      "0.599548546802\n"
     ]
    }
   ],
   "source": [
    "print(act_to_target(0.61))\n",
    "print(env.portfolio.get_positions())\n",
    "print(env.portfolio.get_positions().loc[self.symbol, pf.VALUE] / env.portfolio.get_total_value())"
   ]
  },
  {
   "cell_type": "code",
   "execution_count": 43,
   "metadata": {
    "collapsed": false
   },
   "outputs": [
    {
     "name": "stdout",
     "output_type": "stream",
     "text": [
      "[0.0, 0.1, 0.2, 0.3, 0.4, 0.5, 0.6, 0.7, 0.8, 0.9, 1.0]\n"
     ]
    },
    {
     "data": {
      "text/plain": [
       "11"
      ]
     },
     "execution_count": 43,
     "metadata": {},
     "output_type": "execute_result"
    }
   ],
   "source": [
    "print(env.actions_fractions.q_levels)\n",
    "len(env.actions_fractions.q_levels)"
   ]
  },
  {
   "cell_type": "code",
   "execution_count": null,
   "metadata": {
    "collapsed": true
   },
   "outputs": [],
   "source": []
  },
  {
   "cell_type": "code",
   "execution_count": 44,
   "metadata": {
    "collapsed": false
   },
   "outputs": [],
   "source": [
    "from recommender.environment import Environment\n",
    "from recommender.agent import Agent\n",
    "from logging import Logger\n",
    "\n",
    "INITIAL_CAP = 10000\n",
    "symbol = 'AAPL'\n",
    "log = Logger('simulate_period')\n",
    "log.setLevel('DEBUG')\n",
    "\n",
    "# Initialization\n",
    "total_data_df = pd.read_pickle('../../data/data_df.pkl')\n",
    "data_df = total_data_df[symbol].unstack()\n",
    "indicators = create_indicators(data_df)\n",
    "env = Environment(total_data_df, indicators=indicators, initial_cap=INITIAL_CAP)\n",
    "env.portfolio.set_current_date(data_df.index[252])\n",
    "\n",
    "num_states = get_num_states(indicators)\n",
    "num_actions = len(env.actions_fractions.q_levels)  # All the possible fractions of total value\n",
    "agent = Agent(num_states=num_states, \n",
    "              num_actions=num_actions, \n",
    "              random_actions_rate=0.98, \n",
    "              random_actions_decrease=0.999,\n",
    "              dyna_iterations=20)"
   ]
  },
  {
   "cell_type": "code",
   "execution_count": 45,
   "metadata": {
    "collapsed": false
   },
   "outputs": [
    {
     "data": {
      "text/plain": [
       "(1331, 11)"
      ]
     },
     "execution_count": 45,
     "metadata": {},
     "output_type": "execute_result"
    }
   ],
   "source": [
    "agent.Q.shape"
   ]
  },
  {
   "cell_type": "code",
   "execution_count": 46,
   "metadata": {
    "collapsed": true
   },
   "outputs": [],
   "source": [
    "# Loop and play\n",
    "N_iters = data_df.shape[0]\n",
    "fraction_index = 0"
   ]
  },
  {
   "cell_type": "code",
   "execution_count": 47,
   "metadata": {
    "collapsed": false
   },
   "outputs": [
    {
     "name": "stdout",
     "output_type": "stream",
     "text": [
      "date=1994-01-27 00:00:00\n",
      "\n",
      "       shares    value\n",
      "CASH  10000.0  10000.0\n",
      "----------------------------------------------------------------------\n",
      "\n",
      "\n",
      "date=1994-01-28 00:00:00\n",
      "\n",
      "reward = 0.0 \n",
      "\n",
      "new_state = 907 \n",
      "\n",
      "action = 0 (0.0)\n",
      "       shares    value\n",
      "CASH  10000.0  10000.0\n",
      "0.0\n",
      "----------------------------------------------------------------------\n",
      "\n",
      "\n"
     ]
    }
   ],
   "source": [
    "print('date={}\\n'.format(env.portfolio.current_date))\n",
    "print(env.portfolio.get_positions())\n",
    "print('-'*70 + '\\n\\n')\n",
    "reward, new_state = env.get_consequences_from_fraction_index(fraction_index)\n",
    "\n",
    "print('date={}\\n'.format(env.portfolio.current_date))\n",
    "print('reward = {} \\n\\nnew_state = {} \\n\\naction = {} ({})'.format(reward, \n",
    "                                                                   new_state,\n",
    "                                                                   fraction_index,\n",
    "                                                                   env.actions_fractions.interval_to_value(fraction_index)))\n",
    "pos = env.portfolio.positions_df\n",
    "print(env.portfolio.get_positions())\n",
    "print(pos.loc[symbol, 'value'] / pos['value'].sum())\n",
    "print('-'*70 + '\\n\\n')\n",
    "\n",
    "\n",
    "fraction_index = agent.play(reward, new_state)\n",
    "\n",
    "\n",
    "    "
   ]
  },
  {
   "cell_type": "code",
   "execution_count": null,
   "metadata": {
    "collapsed": true
   },
   "outputs": [],
   "source": []
  },
  {
   "cell_type": "markdown",
   "metadata": {},
   "source": [
    "### Let's test the act_to_target function"
   ]
  },
  {
   "cell_type": "code",
   "execution_count": 48,
   "metadata": {
    "collapsed": false
   },
   "outputs": [
    {
     "data": {
      "text/plain": [
       "[0.0, 0.1, 0.2, 0.3, 0.4, 0.5, 0.6, 0.7, 0.8, 0.9, 1.0]"
      ]
     },
     "execution_count": 48,
     "metadata": {},
     "output_type": "execute_result"
    }
   ],
   "source": [
    "env.actions_fractions.q_levels"
   ]
  },
  {
   "cell_type": "code",
   "execution_count": 49,
   "metadata": {
    "collapsed": false
   },
   "outputs": [
    {
     "name": "stdout",
     "output_type": "stream",
     "text": [
      "       shares    value\n",
      "AAPL  6611.00  7734.87\n",
      "CASH  2000.69  2000.69\n",
      "0.79449666994\n",
      "----------------------------------------------------------------------\n",
      "\n",
      "\n"
     ]
    }
   ],
   "source": [
    "env.act_to_target(0.8)\n",
    "pos = env.portfolio.get_positions()\n",
    "print(pos)\n",
    "print(pos.loc[symbol, 'value'] / pos['value'].sum())\n",
    "print('-'*70 + '\\n\\n')"
   ]
  },
  {
   "cell_type": "code",
   "execution_count": 50,
   "metadata": {
    "collapsed": true
   },
   "outputs": [],
   "source": [
    "def initialize_env(data_df, symbol):    \n",
    "    # Initialization\n",
    "    total_data_df = pd.read_pickle('../../data/data_df.pkl')\n",
    "    data_df = total_data_df[symbol].unstack()\n",
    "    indicators = create_indicators(data_df)\n",
    "    env = Environment(total_data_df, indicators=indicators, initial_cap=INITIAL_CAP)\n",
    "    env.portfolio.set_current_date(data_df.index[252])\n",
    "    num_states = get_num_states(indicators)\n",
    "    num_actions = len(env.actions_fractions.q_levels)  # All the possible fractions of total value\n",
    "    return env, num_states, num_actions"
   ]
  },
  {
   "cell_type": "code",
   "execution_count": 51,
   "metadata": {
    "collapsed": true
   },
   "outputs": [],
   "source": [
    "from recommender.environment import Environment\n",
    "from recommender.agent import Agent\n",
    "import sys\n",
    "\n",
    "INITIAL_CAP = 10000\n",
    "\n",
    "\n",
    "def simulate_period(data_df, symbol, agent, other_env=None, verbose=False):\n",
    "    \"\"\" \n",
    "    Simulate the market and one Agent for the entire period. \n",
    "    data_df format is like below:\n",
    "    feature     Close   High    Low     Open    Volume\n",
    "    date\n",
    "    1993-01-29  2.12    2.19    2.11    0.0     66525200.0\n",
    "    1993-02-01  2.19    2.19    2.12    0.0     60138400.0\n",
    "    1993-02-02  2.15    2.20    2.15    0.0     45584000.0\n",
    "    \"\"\"\n",
    "    if other_env is None:\n",
    "        env, num_states, num_actions = initialize_env(data_df, symbol)\n",
    "    else:\n",
    "        env = other_env\n",
    "        \n",
    "\n",
    "    # Loop and play\n",
    "    N_iters = data_df.shape[0]\n",
    "    fraction_index = 0\n",
    "    recorded_stock_value = {}\n",
    "    recorded_cash_value = {}\n",
    "    for i in range(N_iters):\n",
    "        reward, new_state = env.get_consequences_from_fraction_index(fraction_index)\n",
    "        \n",
    "        if verbose:\n",
    "            print('date={}\\n'.format(env.portfolio.current_date))\n",
    "            print('reward = {} \\n\\nnew_state = {} \\n\\naction = {} ({})'.format(reward, \n",
    "                                                                       new_state,\n",
    "                                                                       fraction_index,\n",
    "                                                                       env.actions_fractions.interval_to_value(fraction_index)))\n",
    "            pos = env.portfolio.positions_df\n",
    "            print(env.portfolio.get_positions())\n",
    "            print(pos.loc[symbol, 'value'] / pos['value'].sum())\n",
    "            print('-'*70 + '\\n\\n')\n",
    "            \n",
    "        pos = env.portfolio.positions_df\n",
    "        recorded_stock_value[env.portfolio.current_date] = pos.loc[symbol, 'value']\n",
    "        recorded_cash_value[env.portfolio.current_date] = pos.loc['CASH', 'value']\n",
    "        fraction_index = agent.play(reward, new_state)\n",
    "        if i%100 == 0:\n",
    "            sys.stdout.write('\\rIteration {}/{}'.format(i, N_iters))\n",
    "    \n",
    "    return pd.DataFrame({'stock_value':recorded_stock_value, 'cash':recorded_cash_value})\n",
    "        "
   ]
  },
  {
   "cell_type": "code",
   "execution_count": 52,
   "metadata": {
    "collapsed": true
   },
   "outputs": [],
   "source": [
    "env, num_states, num_actions = initialize_env(data_df, symbol)\n",
    "agent = Agent(num_states=num_states, \n",
    "              num_actions=num_actions, \n",
    "              random_actions_rate=0.98, \n",
    "              random_actions_decrease=0.999,\n",
    "              dyna_iterations=20)"
   ]
  },
  {
   "cell_type": "code",
   "execution_count": 53,
   "metadata": {
    "collapsed": false
   },
   "outputs": [
    {
     "name": "stdout",
     "output_type": "stream",
     "text": [
      "Iteration 6000/6024"
     ]
    }
   ],
   "source": [
    "values = simulate_period(data_df, symbol, agent, other_env=env)"
   ]
  },
  {
   "cell_type": "code",
   "execution_count": 55,
   "metadata": {
    "collapsed": false
   },
   "outputs": [
    {
     "name": "stdout",
     "output_type": "stream",
     "text": [
      "<class 'tuple'>\n"
     ]
    },
    {
     "data": {
      "text/plain": [
       "5"
      ]
     },
     "execution_count": 55,
     "metadata": {},
     "output_type": "execute_result"
    }
   ],
   "source": [
    "from utils.analysis import value_eval\n",
    "print(type(value_eval(pd.DataFrame(values))))\n",
    "len(value_eval(pd.DataFrame(values)))"
   ]
  },
  {
   "cell_type": "code",
   "execution_count": 56,
   "metadata": {
    "collapsed": false
   },
   "outputs": [
    {
     "name": "stdout",
     "output_type": "stream",
     "text": [
      "(5771, 2)\n"
     ]
    },
    {
     "data": {
      "text/html": [
       "<div>\n",
       "<style>\n",
       "    .dataframe thead tr:only-child th {\n",
       "        text-align: right;\n",
       "    }\n",
       "\n",
       "    .dataframe thead th {\n",
       "        text-align: left;\n",
       "    }\n",
       "\n",
       "    .dataframe tbody tr th {\n",
       "        vertical-align: top;\n",
       "    }\n",
       "</style>\n",
       "<table border=\"1\" class=\"dataframe\">\n",
       "  <thead>\n",
       "    <tr style=\"text-align: right;\">\n",
       "      <th></th>\n",
       "      <th>cash</th>\n",
       "      <th>stock_value</th>\n",
       "    </tr>\n",
       "  </thead>\n",
       "  <tbody>\n",
       "    <tr>\n",
       "      <th>1994-01-28</th>\n",
       "      <td>10000.00</td>\n",
       "      <td>0.00</td>\n",
       "    </tr>\n",
       "    <tr>\n",
       "      <th>1994-01-31</th>\n",
       "      <td>5000.28</td>\n",
       "      <td>4834.44</td>\n",
       "    </tr>\n",
       "    <tr>\n",
       "      <th>1994-02-01</th>\n",
       "      <td>1967.64</td>\n",
       "      <td>8001.56</td>\n",
       "    </tr>\n",
       "    <tr>\n",
       "      <th>1994-02-02</th>\n",
       "      <td>3988.26</td>\n",
       "      <td>5930.68</td>\n",
       "    </tr>\n",
       "    <tr>\n",
       "      <th>1994-02-03</th>\n",
       "      <td>6944.16</td>\n",
       "      <td>3025.20</td>\n",
       "    </tr>\n",
       "  </tbody>\n",
       "</table>\n",
       "</div>"
      ],
      "text/plain": [
       "                cash  stock_value\n",
       "1994-01-28  10000.00         0.00\n",
       "1994-01-31   5000.28      4834.44\n",
       "1994-02-01   1967.64      8001.56\n",
       "1994-02-02   3988.26      5930.68\n",
       "1994-02-03   6944.16      3025.20"
      ]
     },
     "execution_count": 56,
     "metadata": {},
     "output_type": "execute_result"
    }
   ],
   "source": [
    "print(values.shape)\n",
    "values.head()"
   ]
  },
  {
   "cell_type": "code",
   "execution_count": 57,
   "metadata": {
    "collapsed": false
   },
   "outputs": [
    {
     "name": "stdout",
     "output_type": "stream",
     "text": [
      "Sharpe ratio: 0.5122569027478364\n",
      "Cum. Ret.: 9.698893999999969\n",
      "AVG_DRET: 0.0005614667162017454\n",
      "STD_DRET: 0.017399487942960735\n",
      "Final value: 106988.93999999968\n"
     ]
    }
   ],
   "source": [
    "from utils.analysis import value_eval\n",
    "total_value = values.sum(axis=1)\n",
    "print('Sharpe ratio: {}\\nCum. Ret.: {}\\nAVG_DRET: {}\\nSTD_DRET: {}\\nFinal value: {}'.format(*value_eval(pd.DataFrame(total_value))))"
   ]
  },
  {
   "cell_type": "code",
   "execution_count": 58,
   "metadata": {
    "collapsed": false
   },
   "outputs": [
    {
     "name": "stdout",
     "output_type": "stream",
     "text": [
      "Iteration 6000/6024"
     ]
    },
    {
     "data": {
      "text/plain": [
       "(0.94019057220039004,\n",
       " 51.627538000000079,\n",
       " 0.0007718939770903411,\n",
       " 0.013032929039758674,\n",
       " 526275.38000000082)"
      ]
     },
     "execution_count": 58,
     "metadata": {},
     "output_type": "execute_result"
    }
   ],
   "source": [
    "values_df = simulate_period(data_df, symbol, agent)\n",
    "total_value = values_df.sum(axis=1)\n",
    "value_eval(pd.DataFrame(total_value))"
   ]
  },
  {
   "cell_type": "code",
   "execution_count": 59,
   "metadata": {
    "collapsed": false
   },
   "outputs": [
    {
     "data": {
      "text/plain": [
       "<matplotlib.axes._subplots.AxesSubplot at 0x7f07d67c5c18>"
      ]
     },
     "execution_count": 59,
     "metadata": {},
     "output_type": "execute_result"
    },
    {
     "data": {
      "image/png": "[encoded data removed]",
      "text/plain": [
       "<matplotlib.figure.Figure at 0x7f07d6d18a90>"
      ]
     },
     "metadata": {},
     "output_type": "display_data"
    }
   ],
   "source": [
    "total_value.plot()"
   ]
  },
  {
   "cell_type": "code",
   "execution_count": 60,
   "metadata": {
    "collapsed": false
   },
   "outputs": [
    {
     "data": {
      "text/plain": [
       "526275.38000000082"
      ]
     },
     "execution_count": 60,
     "metadata": {},
     "output_type": "execute_result"
    }
   ],
   "source": [
    "total_value[-1]"
   ]
  },
  {
   "cell_type": "code",
   "execution_count": 61,
   "metadata": {
    "collapsed": false
   },
   "outputs": [
    {
     "name": "stdout",
     "output_type": "stream",
     "text": [
      "(5771,)\n"
     ]
    },
    {
     "data": {
      "text/plain": [
       "1994-01-28    10000.00\n",
       "1994-01-31     9669.44\n",
       "1994-02-01     9685.96\n",
       "1994-02-02     9628.99\n",
       "1994-02-03     9743.23\n",
       "dtype: float64"
      ]
     },
     "execution_count": 61,
     "metadata": {},
     "output_type": "execute_result"
    }
   ],
   "source": [
    "print(total_value.shape)\n",
    "total_value.head()"
   ]
  },
  {
   "cell_type": "code",
   "execution_count": 62,
   "metadata": {
    "collapsed": false
   },
   "outputs": [
    {
     "data": {
      "text/plain": [
       "Timestamp('1994-01-28 00:00:00')"
      ]
     },
     "execution_count": 62,
     "metadata": {},
     "output_type": "execute_result"
    }
   ],
   "source": [
    "total_value.index[0]"
   ]
  },
  {
   "cell_type": "code",
   "execution_count": 63,
   "metadata": {
    "collapsed": false
   },
   "outputs": [],
   "source": [
    "initial_date = total_value.index[0]\n",
    "compare_results = data_df.loc[initial_date:, 'Close'].copy()"
   ]
  },
  {
   "cell_type": "code",
   "execution_count": 64,
   "metadata": {
    "collapsed": false
   },
   "outputs": [
    {
     "data": {
      "text/plain": [
       "(5771,)"
      ]
     },
     "execution_count": 64,
     "metadata": {},
     "output_type": "execute_result"
    }
   ],
   "source": [
    "compare_results.shape"
   ]
  },
  {
   "cell_type": "code",
   "execution_count": 65,
   "metadata": {
    "collapsed": false
   },
   "outputs": [
    {
     "data": {
      "text/html": [
       "<div>\n",
       "<style>\n",
       "    .dataframe thead tr:only-child th {\n",
       "        text-align: right;\n",
       "    }\n",
       "\n",
       "    .dataframe thead th {\n",
       "        text-align: left;\n",
       "    }\n",
       "\n",
       "    .dataframe tbody tr th {\n",
       "        vertical-align: top;\n",
       "    }\n",
       "</style>\n",
       "<table border=\"1\" class=\"dataframe\">\n",
       "  <thead>\n",
       "    <tr style=\"text-align: right;\">\n",
       "      <th></th>\n",
       "      <th>AAPL</th>\n",
       "      <th>portfolio</th>\n",
       "    </tr>\n",
       "    <tr>\n",
       "      <th>date</th>\n",
       "      <th></th>\n",
       "      <th></th>\n",
       "    </tr>\n",
       "  </thead>\n",
       "  <tbody>\n",
       "    <tr>\n",
       "      <th>1994-01-28</th>\n",
       "      <td>1.21</td>\n",
       "      <td>10000.00</td>\n",
       "    </tr>\n",
       "    <tr>\n",
       "      <th>1994-01-31</th>\n",
       "      <td>1.17</td>\n",
       "      <td>9669.44</td>\n",
       "    </tr>\n",
       "    <tr>\n",
       "      <th>1994-02-01</th>\n",
       "      <td>1.19</td>\n",
       "      <td>9685.96</td>\n",
       "    </tr>\n",
       "    <tr>\n",
       "      <th>1994-02-02</th>\n",
       "      <td>1.18</td>\n",
       "      <td>9628.99</td>\n",
       "    </tr>\n",
       "    <tr>\n",
       "      <th>1994-02-03</th>\n",
       "      <td>1.20</td>\n",
       "      <td>9743.23</td>\n",
       "    </tr>\n",
       "  </tbody>\n",
       "</table>\n",
       "</div>"
      ],
      "text/plain": [
       "            AAPL  portfolio\n",
       "date                       \n",
       "1994-01-28  1.21   10000.00\n",
       "1994-01-31  1.17    9669.44\n",
       "1994-02-01  1.19    9685.96\n",
       "1994-02-02  1.18    9628.99\n",
       "1994-02-03  1.20    9743.23"
      ]
     },
     "execution_count": 65,
     "metadata": {},
     "output_type": "execute_result"
    }
   ],
   "source": [
    "compare_results.name='AAPL'\n",
    "compare_results_df = pd.DataFrame(compare_results)\n",
    "compare_results_df['portfolio'] = total_value\n",
    "compare_results_df.head()"
   ]
  },
  {
   "cell_type": "code",
   "execution_count": 66,
   "metadata": {
    "collapsed": false
   },
   "outputs": [
    {
     "data": {
      "text/plain": [
       "<matplotlib.axes._subplots.AxesSubplot at 0x7f07d69dc6a0>"
      ]
     },
     "execution_count": 66,
     "metadata": {},
     "output_type": "execute_result"
    },
    {
     "data": {
      "image/png": "[encoded data removed]",
      "text/plain": [
       "<matplotlib.figure.Figure at 0x7f07d57ecba8>"
      ]
     },
     "metadata": {},
     "output_type": "display_data"
    }
   ],
   "source": [
    "std_comp_df = compare_results_df / compare_results_df.iloc[0]\n",
    "std_comp_df.plot()"
   ]
  },
  {
   "cell_type": "code",
   "execution_count": 67,
   "metadata": {
    "collapsed": false
   },
   "outputs": [
    {
     "data": {
      "text/plain": [
       "(0.66696407892698417,\n",
       " 94.719008264462801,\n",
       " 0.0012196011129682511,\n",
       " 0.029027901311892094,\n",
       " 115.81999999999999)"
      ]
     },
     "execution_count": 67,
     "metadata": {},
     "output_type": "execute_result"
    }
   ],
   "source": [
    "value_eval(pd.DataFrame(compare_results_df['AAPL']))"
   ]
  },
  {
   "cell_type": "code",
   "execution_count": null,
   "metadata": {
    "collapsed": true
   },
   "outputs": [],
   "source": []
  },
  {
   "cell_type": "code",
   "execution_count": 68,
   "metadata": {
    "collapsed": true
   },
   "outputs": [],
   "source": [
    "a_dict = {'col1':{'index1':89, 'index2':98}, 'col2':{'index1':90, 'index2':80}}"
   ]
  },
  {
   "cell_type": "code",
   "execution_count": 69,
   "metadata": {
    "collapsed": false
   },
   "outputs": [
    {
     "data": {
      "text/html": [
       "<div>\n",
       "<style>\n",
       "    .dataframe thead tr:only-child th {\n",
       "        text-align: right;\n",
       "    }\n",
       "\n",
       "    .dataframe thead th {\n",
       "        text-align: left;\n",
       "    }\n",
       "\n",
       "    .dataframe tbody tr th {\n",
       "        vertical-align: top;\n",
       "    }\n",
       "</style>\n",
       "<table border=\"1\" class=\"dataframe\">\n",
       "  <thead>\n",
       "    <tr style=\"text-align: right;\">\n",
       "      <th></th>\n",
       "      <th>col1</th>\n",
       "      <th>col2</th>\n",
       "    </tr>\n",
       "  </thead>\n",
       "  <tbody>\n",
       "    <tr>\n",
       "      <th>index1</th>\n",
       "      <td>89</td>\n",
       "      <td>90</td>\n",
       "    </tr>\n",
       "    <tr>\n",
       "      <th>index2</th>\n",
       "      <td>98</td>\n",
       "      <td>80</td>\n",
       "    </tr>\n",
       "  </tbody>\n",
       "</table>\n",
       "</div>"
      ],
      "text/plain": [
       "        col1  col2\n",
       "index1    89    90\n",
       "index2    98    80"
      ]
     },
     "execution_count": 69,
     "metadata": {},
     "output_type": "execute_result"
    }
   ],
   "source": [
    "pd.DataFrame(a_dict)"
   ]
  },
  {
   "cell_type": "code",
   "execution_count": 70,
   "metadata": {
    "collapsed": false
   },
   "outputs": [
    {
     "data": {
      "text/plain": [
       "index1    179\n",
       "index2    178\n",
       "dtype: int64"
      ]
     },
     "execution_count": 70,
     "metadata": {},
     "output_type": "execute_result"
    }
   ],
   "source": [
    "pd.DataFrame(a_dict).sum(axis=1)"
   ]
  },
  {
   "cell_type": "code",
   "execution_count": null,
   "metadata": {
    "collapsed": true
   },
   "outputs": [],
   "source": []
  },
  {
   "cell_type": "code",
   "execution_count": null,
   "metadata": {
    "collapsed": true
   },
   "outputs": [],
   "source": []
  },
  {
   "cell_type": "code",
   "execution_count": null,
   "metadata": {
    "collapsed": true
   },
   "outputs": [],
   "source": []
  },
  {
   "cell_type": "code",
   "execution_count": null,
   "metadata": {
    "collapsed": true
   },
   "outputs": [],
   "source": []
  }
 ],
 "metadata": {
  "kernelspec": {
   "display_name": "cap_env",
   "language": "python",
   "name": "cap_env"
  },
  "language_info": {
   "codemirror_mode": {
    "name": "ipython",
    "version": 3
   },
   "file_extension": ".py",
   "mimetype": "text/x-python",
   "name": "python",
   "nbconvert_exporter": "python",
   "pygments_lexer": "ipython3",
   "version": "3.6.1"
  }
 },
 "nbformat": 4,
 "nbformat_minor": 2
}
