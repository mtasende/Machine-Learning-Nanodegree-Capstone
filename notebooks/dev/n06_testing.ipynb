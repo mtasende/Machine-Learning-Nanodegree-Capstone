{
 "cells": [
  {
   "cell_type": "code",
   "execution_count": 1,
   "metadata": {
    "collapsed": false
   },
   "outputs": [
    {
     "name": "stdout",
     "output_type": "stream",
     "text": [
      "Populating the interactive namespace from numpy and matplotlib\n"
     ]
    }
   ],
   "source": [
    "# Basic imports\n",
    "import os\n",
    "import pandas as pd\n",
    "import matplotlib.pyplot as plt\n",
    "import numpy as np\n",
    "import datetime as dt\n",
    "import scipy.optimize as spo\n",
    "import sys\n",
    "from time import time\n",
    "from sklearn.metrics import r2_score, median_absolute_error\n",
    "\n",
    "%matplotlib inline\n",
    "\n",
    "%pylab inline\n",
    "pylab.rcParams['figure.figsize'] = (20.0, 10.0)\n",
    "\n",
    "%load_ext autoreload\n",
    "%autoreload 2\n",
    "\n",
    "sys.path.append('../../')\n",
    "import predictor.feature_extraction as fe\n",
    "import utils.preprocessing as pp\n",
    "import utils.misc as misc"
   ]
  },
  {
   "cell_type": "code",
   "execution_count": 2,
   "metadata": {
    "collapsed": false
   },
   "outputs": [
    {
     "data": {
      "text/html": [
       "<div>\n",
       "<style>\n",
       "    .dataframe thead tr:only-child th {\n",
       "        text-align: right;\n",
       "    }\n",
       "\n",
       "    .dataframe thead th {\n",
       "        text-align: left;\n",
       "    }\n",
       "\n",
       "    .dataframe tbody tr th {\n",
       "        vertical-align: top;\n",
       "    }\n",
       "</style>\n",
       "<table border=\"1\" class=\"dataframe\">\n",
       "  <thead>\n",
       "    <tr style=\"text-align: right;\">\n",
       "      <th></th>\n",
       "      <th>GOOD_DATA_RATIO</th>\n",
       "      <th>SAMPLES_GOOD_DATA_RATIO</th>\n",
       "      <th>ahead_days</th>\n",
       "      <th>base_days</th>\n",
       "      <th>model</th>\n",
       "      <th>mre</th>\n",
       "      <th>r2</th>\n",
       "      <th>step_days</th>\n",
       "      <th>train_days</th>\n",
       "      <th>train_val_time</th>\n",
       "      <th>x_filename</th>\n",
       "      <th>y_filename</th>\n",
       "    </tr>\n",
       "    <tr>\n",
       "      <th>ahead_days</th>\n",
       "      <th></th>\n",
       "      <th></th>\n",
       "      <th></th>\n",
       "      <th></th>\n",
       "      <th></th>\n",
       "      <th></th>\n",
       "      <th></th>\n",
       "      <th></th>\n",
       "      <th></th>\n",
       "      <th></th>\n",
       "      <th></th>\n",
       "      <th></th>\n",
       "    </tr>\n",
       "  </thead>\n",
       "  <tbody>\n",
       "    <tr>\n",
       "      <th>1.0</th>\n",
       "      <td>0.99</td>\n",
       "      <td>0.9</td>\n",
       "      <td>1.0</td>\n",
       "      <td>112.0</td>\n",
       "      <td>linear</td>\n",
       "      <td>0.015856</td>\n",
       "      <td>0.986599</td>\n",
       "      <td>7.0</td>\n",
       "      <td>504.0</td>\n",
       "      <td>-1.0</td>\n",
       "      <td>x_base112_ahead1.pkl</td>\n",
       "      <td>y_base112_ahead1.pkl</td>\n",
       "    </tr>\n",
       "    <tr>\n",
       "      <th>7.0</th>\n",
       "      <td>0.99</td>\n",
       "      <td>0.9</td>\n",
       "      <td>7.0</td>\n",
       "      <td>112.0</td>\n",
       "      <td>linear</td>\n",
       "      <td>0.042367</td>\n",
       "      <td>0.923348</td>\n",
       "      <td>7.0</td>\n",
       "      <td>756.0</td>\n",
       "      <td>-1.0</td>\n",
       "      <td>x_base112_ahead7.pkl</td>\n",
       "      <td>y_base112_ahead7.pkl</td>\n",
       "    </tr>\n",
       "    <tr>\n",
       "      <th>14.0</th>\n",
       "      <td>0.99</td>\n",
       "      <td>0.9</td>\n",
       "      <td>14.0</td>\n",
       "      <td>112.0</td>\n",
       "      <td>linear</td>\n",
       "      <td>0.060167</td>\n",
       "      <td>0.865259</td>\n",
       "      <td>7.0</td>\n",
       "      <td>756.0</td>\n",
       "      <td>-1.0</td>\n",
       "      <td>x_base112_ahead14.pkl</td>\n",
       "      <td>y_base112_ahead14.pkl</td>\n",
       "    </tr>\n",
       "    <tr>\n",
       "      <th>28.0</th>\n",
       "      <td>0.99</td>\n",
       "      <td>0.9</td>\n",
       "      <td>28.0</td>\n",
       "      <td>112.0</td>\n",
       "      <td>linear</td>\n",
       "      <td>0.091966</td>\n",
       "      <td>0.758046</td>\n",
       "      <td>7.0</td>\n",
       "      <td>756.0</td>\n",
       "      <td>-1.0</td>\n",
       "      <td>x_base112_ahead28.pkl</td>\n",
       "      <td>y_base112_ahead28.pkl</td>\n",
       "    </tr>\n",
       "    <tr>\n",
       "      <th>56.0</th>\n",
       "      <td>0.99</td>\n",
       "      <td>0.9</td>\n",
       "      <td>56.0</td>\n",
       "      <td>112.0</td>\n",
       "      <td>linear</td>\n",
       "      <td>0.127913</td>\n",
       "      <td>0.590426</td>\n",
       "      <td>7.0</td>\n",
       "      <td>756.0</td>\n",
       "      <td>-1.0</td>\n",
       "      <td>x_base112_ahead56.pkl</td>\n",
       "      <td>y_base112_ahead56.pkl</td>\n",
       "    </tr>\n",
       "  </tbody>\n",
       "</table>\n",
       "</div>"
      ],
      "text/plain": [
       "            GOOD_DATA_RATIO  SAMPLES_GOOD_DATA_RATIO  ahead_days  base_days  \\\n",
       "ahead_days                                                                    \n",
       "1.0                    0.99                      0.9         1.0      112.0   \n",
       "7.0                    0.99                      0.9         7.0      112.0   \n",
       "14.0                   0.99                      0.9        14.0      112.0   \n",
       "28.0                   0.99                      0.9        28.0      112.0   \n",
       "56.0                   0.99                      0.9        56.0      112.0   \n",
       "\n",
       "             model       mre        r2  step_days  train_days  train_val_time  \\\n",
       "ahead_days                                                                      \n",
       "1.0         linear  0.015856  0.986599        7.0       504.0            -1.0   \n",
       "7.0         linear  0.042367  0.923348        7.0       756.0            -1.0   \n",
       "14.0        linear  0.060167  0.865259        7.0       756.0            -1.0   \n",
       "28.0        linear  0.091966  0.758046        7.0       756.0            -1.0   \n",
       "56.0        linear  0.127913  0.590426        7.0       756.0            -1.0   \n",
       "\n",
       "                       x_filename             y_filename  \n",
       "ahead_days                                                \n",
       "1.0          x_base112_ahead1.pkl   y_base112_ahead1.pkl  \n",
       "7.0          x_base112_ahead7.pkl   y_base112_ahead7.pkl  \n",
       "14.0        x_base112_ahead14.pkl  y_base112_ahead14.pkl  \n",
       "28.0        x_base112_ahead28.pkl  y_base112_ahead28.pkl  \n",
       "56.0        x_base112_ahead56.pkl  y_base112_ahead56.pkl  "
      ]
     },
     "execution_count": 2,
     "metadata": {},
     "output_type": "execute_result"
    }
   ],
   "source": [
    "best_params_df = pd.read_pickle('../../data/best_params_final_df.pkl')\n",
    "best_params_df"
   ]
  },
  {
   "cell_type": "markdown",
   "metadata": {},
   "source": [
    "## Ahead 1"
   ]
  },
  {
   "cell_type": "markdown",
   "metadata": {},
   "source": [
    "### Without retraining"
   ]
  },
  {
   "cell_type": "code",
   "execution_count": 3,
   "metadata": {
    "collapsed": true
   },
   "outputs": [],
   "source": [
    "base_days = 112\n",
    "ahead_days = 1\n",
    "pid = 'base{}_ahead{}'.format(base_days, ahead_days)\n",
    "\n",
    "x_train = pd.read_pickle('../../data/x_{}.pkl'.format(pid))\n",
    "y_train = pd.read_pickle('../../data/y_{}.pkl'.format(pid))\n",
    "x_test = pd.read_pickle('../../data/x_{}_test.pkl'.format(pid))\n",
    "y_test = pd.read_pickle('../../data/y_{}_test.pkl'.format(pid))"
   ]
  },
  {
   "cell_type": "code",
   "execution_count": 4,
   "metadata": {
    "collapsed": false
   },
   "outputs": [
    {
     "data": {
      "text/plain": [
       "Timestamp('2014-07-18 00:00:00')"
      ]
     },
     "execution_count": 4,
     "metadata": {},
     "output_type": "execute_result"
    }
   ],
   "source": [
    "end_date = x_train.index.levels[0][-1]\n",
    "end_date"
   ]
  },
  {
   "cell_type": "code",
   "execution_count": 5,
   "metadata": {
    "collapsed": false
   },
   "outputs": [
    {
     "data": {
      "text/plain": [
       "504.0"
      ]
     },
     "execution_count": 5,
     "metadata": {},
     "output_type": "execute_result"
    }
   ],
   "source": [
    "best_params_df.loc[ahead_days, 'train_days']"
   ]
  },
  {
   "cell_type": "code",
   "execution_count": 6,
   "metadata": {
    "collapsed": false
   },
   "outputs": [
    {
     "data": {
      "text/plain": [
       "Timestamp('2012-07-16 00:00:00')"
      ]
     },
     "execution_count": 6,
     "metadata": {},
     "output_type": "execute_result"
    }
   ],
   "source": [
    "start_date = fe.add_market_days(end_date, -best_params_df.loc[ahead_days, 'train_days'])\n",
    "start_date"
   ]
  },
  {
   "cell_type": "code",
   "execution_count": 9,
   "metadata": {
    "collapsed": false
   },
   "outputs": [
    {
     "data": {
      "text/plain": [
       "(20803, 112)"
      ]
     },
     "execution_count": 9,
     "metadata": {},
     "output_type": "execute_result"
    }
   ],
   "source": [
    "x_sub_df = x_train.loc[(slice(start_date,None),slice(None)),:]\n",
    "x_sub_df.shape"
   ]
  },
  {
   "cell_type": "code",
   "execution_count": 10,
   "metadata": {
    "collapsed": false
   },
   "outputs": [
    {
     "data": {
      "text/plain": [
       "(20803,)"
      ]
     },
     "execution_count": 10,
     "metadata": {},
     "output_type": "execute_result"
    }
   ],
   "source": [
    "y_sub_df = y_train.loc[(slice(start_date,None),slice(None))]\n",
    "y_sub_df.shape"
   ]
  },
  {
   "cell_type": "code",
   "execution_count": null,
   "metadata": {
    "collapsed": true
   },
   "outputs": [],
   "source": []
  }
 ],
 "metadata": {
  "kernelspec": {
   "display_name": "cap_env",
   "language": "python",
   "name": "cap_env"
  },
  "language_info": {
   "codemirror_mode": {
    "name": "ipython",
    "version": 3
   },
   "file_extension": ".py",
   "mimetype": "text/x-python",
   "name": "python",
   "nbconvert_exporter": "python",
   "pygments_lexer": "ipython3",
   "version": "3.6.1"
  }
 },
 "nbformat": 4,
 "nbformat_minor": 2
}
