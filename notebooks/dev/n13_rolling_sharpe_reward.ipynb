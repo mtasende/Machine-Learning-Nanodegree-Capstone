{
 "cells": [
  {
   "cell_type": "code",
   "execution_count": 1,
   "metadata": {
    "collapsed": false
   },
   "outputs": [
    {
     "name": "stdout",
     "output_type": "stream",
     "text": [
      "Populating the interactive namespace from numpy and matplotlib\n"
     ]
    }
   ],
   "source": [
    "# Basic imports\n",
    "import os\n",
    "import pandas as pd\n",
    "import matplotlib.pyplot as plt\n",
    "import numpy as np\n",
    "import datetime as dt\n",
    "import scipy.optimize as spo\n",
    "import sys\n",
    "from time import time\n",
    "from sklearn.metrics import r2_score, median_absolute_error\n",
    "\n",
    "%matplotlib inline\n",
    "\n",
    "%pylab inline\n",
    "pylab.rcParams['figure.figsize'] = (20.0, 10.0)\n",
    "\n",
    "%load_ext autoreload\n",
    "%autoreload 2\n",
    "\n",
    "sys.path.append('../../')"
   ]
  },
  {
   "cell_type": "code",
   "execution_count": 2,
   "metadata": {
    "collapsed": true
   },
   "outputs": [],
   "source": [
    "def update_mean(mu_prev, x_n, n):\n",
    "    return (mu_prev * (n-1) + x_n) / n"
   ]
  },
  {
   "cell_type": "code",
   "execution_count": 62,
   "metadata": {
    "collapsed": false
   },
   "outputs": [],
   "source": [
    "def update_std(std_prev, mu_prev, x_n, n, mu_n):\n",
    "    \"\"\" An arbitrary definition for n=1 is necessary for consistency with n>1.\"\"\"\n",
    "    #if n == 1:\n",
    "     #   return (x_n - mu_n)\n",
    "    #if n == 2: # This is necessary because of the n=1 case definition.\n",
    "     #   return np.sqrt((std_prev**2 + (x_n - mu_n)**2))\n",
    "    return np.sqrt(( ((n - 1) * std_prev**2) + (x_n - mu_n)*(x_n - mu_prev) ) / (n))"
   ]
  },
  {
   "cell_type": "code",
   "execution_count": 4,
   "metadata": {
    "collapsed": true
   },
   "outputs": [],
   "source": [
    "def update_sharpe(mu_prev, std_prev, x_n, n, f_s):\n",
    "    mu_n = update_mean(mu_prev, x_n, n)\n",
    "    std_n = update_std(std_prev, x_n, n, mu_n)\n",
    "    return np.sqrt(f_s) * mu_n / std_n, mu_n, std_n"
   ]
  },
  {
   "cell_type": "code",
   "execution_count": 5,
   "metadata": {
    "collapsed": false
   },
   "outputs": [
    {
     "data": {
      "text/html": [
       "<div>\n",
       "<style>\n",
       "    .dataframe thead tr:only-child th {\n",
       "        text-align: right;\n",
       "    }\n",
       "\n",
       "    .dataframe thead th {\n",
       "        text-align: left;\n",
       "    }\n",
       "\n",
       "    .dataframe tbody tr th {\n",
       "        vertical-align: top;\n",
       "    }\n",
       "</style>\n",
       "<table border=\"1\" class=\"dataframe\">\n",
       "  <thead>\n",
       "    <tr style=\"text-align: right;\">\n",
       "      <th></th>\n",
       "      <th>dr</th>\n",
       "    </tr>\n",
       "  </thead>\n",
       "  <tbody>\n",
       "    <tr>\n",
       "      <th>0</th>\n",
       "      <td>0.278555</td>\n",
       "    </tr>\n",
       "    <tr>\n",
       "      <th>1</th>\n",
       "      <td>0.612454</td>\n",
       "    </tr>\n",
       "    <tr>\n",
       "      <th>2</th>\n",
       "      <td>0.403019</td>\n",
       "    </tr>\n",
       "    <tr>\n",
       "      <th>3</th>\n",
       "      <td>0.474735</td>\n",
       "    </tr>\n",
       "    <tr>\n",
       "      <th>4</th>\n",
       "      <td>0.514961</td>\n",
       "    </tr>\n",
       "  </tbody>\n",
       "</table>\n",
       "</div>"
      ],
      "text/plain": [
       "         dr\n",
       "0  0.278555\n",
       "1  0.612454\n",
       "2  0.403019\n",
       "3  0.474735\n",
       "4  0.514961"
      ]
     },
     "execution_count": 5,
     "metadata": {},
     "output_type": "execute_result"
    }
   ],
   "source": [
    "daily = np.random.rand(30000)\n",
    "daily_df = pd.DataFrame(daily, columns=['dr'])\n",
    "daily_df.head()"
   ]
  },
  {
   "cell_type": "markdown",
   "metadata": {},
   "source": [
    "## The \"expanding\" functionality of pandas will come handy"
   ]
  },
  {
   "cell_type": "code",
   "execution_count": 6,
   "metadata": {
    "collapsed": true
   },
   "outputs": [],
   "source": [
    "def sharpe_ratio(daily_returns, sampling_frequency=252, daily_rfr=0):\n",
    "    return np.sqrt(sampling_frequency)*(daily_returns - daily_rfr).mean()/(daily_returns-daily_rfr).std()"
   ]
  },
  {
   "cell_type": "code",
   "execution_count": 7,
   "metadata": {
    "collapsed": false
   },
   "outputs": [
    {
     "name": "stdout",
     "output_type": "stream",
     "text": [
      "[ 0.98177819  0.09130009  0.25230099  0.6822667   0.86405306  0.29142096\n",
      "  0.33324263  0.79464269  0.19780275  0.68473671  0.87452574]\n"
     ]
    },
    {
     "data": {
      "text/plain": [
       "28.623719316547334"
      ]
     },
     "execution_count": 7,
     "metadata": {},
     "output_type": "execute_result"
    }
   ],
   "source": [
    "print(daily[23:34])\n",
    "sharpe_ratio(daily[23:34])"
   ]
  },
  {
   "cell_type": "code",
   "execution_count": 8,
   "metadata": {
    "collapsed": true
   },
   "outputs": [],
   "source": [
    "from functools import partial"
   ]
  },
  {
   "cell_type": "code",
   "execution_count": 9,
   "metadata": {
    "collapsed": false
   },
   "outputs": [
    {
     "data": {
      "text/plain": [
       "'\\ndef dummy(x):\\n    print(type(x))\\n    print(len(x))\\n    return 0.0\\n\\ndaily_df.expanding(14).apply(dummy)\\n'"
      ]
     },
     "execution_count": 9,
     "metadata": {},
     "output_type": "execute_result"
    }
   ],
   "source": [
    "SAMPLING_FREQUENCY = 252\n",
    "\"\"\"\n",
    "def dummy(x):\n",
    "    print(type(x))\n",
    "    print(len(x))\n",
    "    return 0.0\n",
    "\n",
    "daily_df.expanding(14).apply(dummy)\n",
    "\"\"\""
   ]
  },
  {
   "cell_type": "code",
   "execution_count": 10,
   "metadata": {
    "collapsed": false
   },
   "outputs": [
    {
     "data": {
      "text/plain": [
       "<matplotlib.axes._subplots.AxesSubplot at 0x7fc7841e23c8>"
      ]
     },
     "execution_count": 10,
     "metadata": {},
     "output_type": "execute_result"
    },
    {
     "data": {
      "image/png": "[encoded data removed]",
      "text/plain": [
       "<matplotlib.figure.Figure at 0x7fc751956828>"
      ]
     },
     "metadata": {},
     "output_type": "display_data"
    }
   ],
   "source": [
    "expanding_sharpe_df = daily_df.expanding(252).apply(sharpe_ratio)\n",
    "expanding_sharpe_df.rename(columns={'dr':'expanding_sharpe'})\n",
    "expanding_sharpe_df.plot()"
   ]
  },
  {
   "cell_type": "code",
   "execution_count": null,
   "metadata": {
    "collapsed": true
   },
   "outputs": [],
   "source": []
  },
  {
   "cell_type": "markdown",
   "metadata": {},
   "source": [
    "## Let's compare both"
   ]
  },
  {
   "cell_type": "code",
   "execution_count": 11,
   "metadata": {
    "collapsed": false
   },
   "outputs": [
    {
     "name": "stderr",
     "output_type": "stream",
     "text": [
      "/home/miguel/anaconda3/envs/cap_env/lib/python3.6/site-packages/ipykernel_launcher.py:4: RuntimeWarning: divide by zero encountered in double_scalars\n",
      "  after removing the cwd from sys.path.\n"
     ]
    }
   ],
   "source": [
    "mu = 0\n",
    "std = 0\n",
    "sr = []\n",
    "for i in range(len(daily)):\n",
    "    sr_n, mu, std = update_sharpe(mu_prev=mu, std_prev=std, x_n=daily[i], n=i+1, f_s=252)\n",
    "    sr.append(sr_n)"
   ]
  },
  {
   "cell_type": "code",
   "execution_count": 12,
   "metadata": {
    "collapsed": false
   },
   "outputs": [
    {
     "data": {
      "text/plain": [
       "30000"
      ]
     },
     "execution_count": 12,
     "metadata": {},
     "output_type": "execute_result"
    }
   ],
   "source": [
    "len(sr)"
   ]
  },
  {
   "cell_type": "code",
   "execution_count": 13,
   "metadata": {
    "collapsed": false
   },
   "outputs": [
    {
     "data": {
      "text/plain": [
       "(30000, 1)"
      ]
     },
     "execution_count": 13,
     "metadata": {},
     "output_type": "execute_result"
    }
   ],
   "source": [
    "expanding_sharpe_df.shape"
   ]
  },
  {
   "cell_type": "code",
   "execution_count": 14,
   "metadata": {
    "collapsed": false
   },
   "outputs": [
    {
     "data": {
      "text/plain": [
       "[<matplotlib.lines.Line2D at 0x7fc74e388390>]"
      ]
     },
     "execution_count": 14,
     "metadata": {},
     "output_type": "execute_result"
    },
    {
     "data": {
      "image/png": "[encoded data removed]",
      "text/plain": [
       "<matplotlib.figure.Figure at 0x7fc74e388080>"
      ]
     },
     "metadata": {},
     "output_type": "display_data"
    }
   ],
   "source": [
    "expanding_sharpe_df.plot()\n",
    "plt.plot(sr)"
   ]
  },
  {
   "cell_type": "code",
   "execution_count": 15,
   "metadata": {
    "collapsed": false
   },
   "outputs": [
    {
     "data": {
      "text/html": [
       "<div>\n",
       "<style>\n",
       "    .dataframe thead tr:only-child th {\n",
       "        text-align: right;\n",
       "    }\n",
       "\n",
       "    .dataframe thead th {\n",
       "        text-align: left;\n",
       "    }\n",
       "\n",
       "    .dataframe tbody tr th {\n",
       "        vertical-align: top;\n",
       "    }\n",
       "</style>\n",
       "<table border=\"1\" class=\"dataframe\">\n",
       "  <thead>\n",
       "    <tr style=\"text-align: right;\">\n",
       "      <th></th>\n",
       "      <th>dr</th>\n",
       "      <th>sr</th>\n",
       "      <th>diff</th>\n",
       "    </tr>\n",
       "  </thead>\n",
       "  <tbody>\n",
       "    <tr>\n",
       "      <th>0</th>\n",
       "      <td>NaN</td>\n",
       "      <td>inf</td>\n",
       "      <td>NaN</td>\n",
       "    </tr>\n",
       "    <tr>\n",
       "      <th>1</th>\n",
       "      <td>NaN</td>\n",
       "      <td>42.361043</td>\n",
       "      <td>NaN</td>\n",
       "    </tr>\n",
       "    <tr>\n",
       "      <th>2</th>\n",
       "      <td>NaN</td>\n",
       "      <td>57.186052</td>\n",
       "      <td>NaN</td>\n",
       "    </tr>\n",
       "    <tr>\n",
       "      <th>3</th>\n",
       "      <td>NaN</td>\n",
       "      <td>70.509384</td>\n",
       "      <td>NaN</td>\n",
       "    </tr>\n",
       "    <tr>\n",
       "      <th>4</th>\n",
       "      <td>NaN</td>\n",
       "      <td>79.678422</td>\n",
       "      <td>NaN</td>\n",
       "    </tr>\n",
       "  </tbody>\n",
       "</table>\n",
       "</div>"
      ],
      "text/plain": [
       "   dr         sr  diff\n",
       "0 NaN        inf   NaN\n",
       "1 NaN  42.361043   NaN\n",
       "2 NaN  57.186052   NaN\n",
       "3 NaN  70.509384   NaN\n",
       "4 NaN  79.678422   NaN"
      ]
     },
     "execution_count": 15,
     "metadata": {},
     "output_type": "execute_result"
    }
   ],
   "source": [
    "comp_df = expanding_sharpe_df.copy()\n",
    "comp_df['sr'] = pd.Series(sr)\n",
    "comp_df['diff'] = ((comp_df['dr'] - comp_df['sr']) / comp_df['dr']).abs()\n",
    "comp_df.head()"
   ]
  },
  {
   "cell_type": "code",
   "execution_count": 16,
   "metadata": {
    "collapsed": false
   },
   "outputs": [
    {
     "data": {
      "text/plain": [
       "<matplotlib.axes._subplots.AxesSubplot at 0x7fc74deb7470>"
      ]
     },
     "execution_count": 16,
     "metadata": {},
     "output_type": "execute_result"
    },
    {
     "data": {
      "image/png": "[encoded data removed]",
      "text/plain": [
       "<matplotlib.figure.Figure at 0x7fc74e045630>"
      ]
     },
     "metadata": {},
     "output_type": "display_data"
    }
   ],
   "source": [
    "comp_df['diff'].plot()"
   ]
  },
  {
   "cell_type": "code",
   "execution_count": 17,
   "metadata": {
    "collapsed": false
   },
   "outputs": [
    {
     "data": {
      "text/plain": [
       "count    29749.000000\n",
       "mean         0.000453\n",
       "std          0.000650\n",
       "min          0.000131\n",
       "25%          0.000168\n",
       "50%          0.000236\n",
       "75%          0.000427\n",
       "max          0.006107\n",
       "Name: diff, dtype: float64"
      ]
     },
     "execution_count": 17,
     "metadata": {},
     "output_type": "execute_result"
    }
   ],
   "source": [
    "comp_df['diff'].describe()"
   ]
  },
  {
   "cell_type": "code",
   "execution_count": 18,
   "metadata": {
    "collapsed": false
   },
   "outputs": [
    {
     "name": "stdout",
     "output_type": "stream",
     "text": [
      "Mean relative error 0.05%\n"
     ]
    }
   ],
   "source": [
    "print('Mean relative error %.2f%%' % (comp_df['diff'].mean() * 100))"
   ]
  },
  {
   "cell_type": "code",
   "execution_count": 19,
   "metadata": {
    "collapsed": false
   },
   "outputs": [
    {
     "data": {
      "text/html": [
       "<div>\n",
       "<style>\n",
       "    .dataframe thead tr:only-child th {\n",
       "        text-align: right;\n",
       "    }\n",
       "\n",
       "    .dataframe thead th {\n",
       "        text-align: left;\n",
       "    }\n",
       "\n",
       "    .dataframe tbody tr th {\n",
       "        vertical-align: top;\n",
       "    }\n",
       "</style>\n",
       "<table border=\"1\" class=\"dataframe\">\n",
       "  <thead>\n",
       "    <tr style=\"text-align: right;\">\n",
       "      <th></th>\n",
       "      <th>dr</th>\n",
       "      <th>sr</th>\n",
       "      <th>diff</th>\n",
       "    </tr>\n",
       "  </thead>\n",
       "  <tbody>\n",
       "    <tr>\n",
       "      <th>240</th>\n",
       "      <td>NaN</td>\n",
       "      <td>26.133498</td>\n",
       "      <td>NaN</td>\n",
       "    </tr>\n",
       "    <tr>\n",
       "      <th>241</th>\n",
       "      <td>NaN</td>\n",
       "      <td>26.203896</td>\n",
       "      <td>NaN</td>\n",
       "    </tr>\n",
       "    <tr>\n",
       "      <th>242</th>\n",
       "      <td>NaN</td>\n",
       "      <td>26.266631</td>\n",
       "      <td>NaN</td>\n",
       "    </tr>\n",
       "    <tr>\n",
       "      <th>243</th>\n",
       "      <td>NaN</td>\n",
       "      <td>26.125989</td>\n",
       "      <td>NaN</td>\n",
       "    </tr>\n",
       "    <tr>\n",
       "      <th>244</th>\n",
       "      <td>NaN</td>\n",
       "      <td>26.199303</td>\n",
       "      <td>NaN</td>\n",
       "    </tr>\n",
       "    <tr>\n",
       "      <th>245</th>\n",
       "      <td>NaN</td>\n",
       "      <td>26.236319</td>\n",
       "      <td>NaN</td>\n",
       "    </tr>\n",
       "    <tr>\n",
       "      <th>246</th>\n",
       "      <td>NaN</td>\n",
       "      <td>26.302573</td>\n",
       "      <td>NaN</td>\n",
       "    </tr>\n",
       "    <tr>\n",
       "      <th>247</th>\n",
       "      <td>NaN</td>\n",
       "      <td>26.369789</td>\n",
       "      <td>NaN</td>\n",
       "    </tr>\n",
       "    <tr>\n",
       "      <th>248</th>\n",
       "      <td>NaN</td>\n",
       "      <td>26.440683</td>\n",
       "      <td>NaN</td>\n",
       "    </tr>\n",
       "    <tr>\n",
       "      <th>249</th>\n",
       "      <td>NaN</td>\n",
       "      <td>26.483762</td>\n",
       "      <td>NaN</td>\n",
       "    </tr>\n",
       "    <tr>\n",
       "      <th>250</th>\n",
       "      <td>NaN</td>\n",
       "      <td>26.441762</td>\n",
       "      <td>NaN</td>\n",
       "    </tr>\n",
       "    <tr>\n",
       "      <th>251</th>\n",
       "      <td>26.343916</td>\n",
       "      <td>26.504794</td>\n",
       "      <td>0.006107</td>\n",
       "    </tr>\n",
       "    <tr>\n",
       "      <th>252</th>\n",
       "      <td>26.407181</td>\n",
       "      <td>26.568023</td>\n",
       "      <td>0.006091</td>\n",
       "    </tr>\n",
       "    <tr>\n",
       "      <th>253</th>\n",
       "      <td>26.464669</td>\n",
       "      <td>26.626064</td>\n",
       "      <td>0.006099</td>\n",
       "    </tr>\n",
       "    <tr>\n",
       "      <th>254</th>\n",
       "      <td>26.504130</td>\n",
       "      <td>26.665953</td>\n",
       "      <td>0.006106</td>\n",
       "    </tr>\n",
       "    <tr>\n",
       "      <th>255</th>\n",
       "      <td>26.574579</td>\n",
       "      <td>26.736835</td>\n",
       "      <td>0.006106</td>\n",
       "    </tr>\n",
       "    <tr>\n",
       "      <th>256</th>\n",
       "      <td>26.644663</td>\n",
       "      <td>26.807373</td>\n",
       "      <td>0.006107</td>\n",
       "    </tr>\n",
       "    <tr>\n",
       "      <th>257</th>\n",
       "      <td>26.578503</td>\n",
       "      <td>26.740341</td>\n",
       "      <td>0.006089</td>\n",
       "    </tr>\n",
       "    <tr>\n",
       "      <th>258</th>\n",
       "      <td>26.584755</td>\n",
       "      <td>26.746665</td>\n",
       "      <td>0.006090</td>\n",
       "    </tr>\n",
       "    <tr>\n",
       "      <th>259</th>\n",
       "      <td>26.544732</td>\n",
       "      <td>26.706126</td>\n",
       "      <td>0.006080</td>\n",
       "    </tr>\n",
       "    <tr>\n",
       "      <th>260</th>\n",
       "      <td>26.547846</td>\n",
       "      <td>26.707580</td>\n",
       "      <td>0.006017</td>\n",
       "    </tr>\n",
       "    <tr>\n",
       "      <th>261</th>\n",
       "      <td>26.569434</td>\n",
       "      <td>26.727992</td>\n",
       "      <td>0.005968</td>\n",
       "    </tr>\n",
       "    <tr>\n",
       "      <th>262</th>\n",
       "      <td>26.631285</td>\n",
       "      <td>26.789839</td>\n",
       "      <td>0.005954</td>\n",
       "    </tr>\n",
       "    <tr>\n",
       "      <th>263</th>\n",
       "      <td>26.598143</td>\n",
       "      <td>26.756284</td>\n",
       "      <td>0.005946</td>\n",
       "    </tr>\n",
       "    <tr>\n",
       "      <th>264</th>\n",
       "      <td>26.495630</td>\n",
       "      <td>26.652421</td>\n",
       "      <td>0.005918</td>\n",
       "    </tr>\n",
       "    <tr>\n",
       "      <th>265</th>\n",
       "      <td>26.354905</td>\n",
       "      <td>26.509816</td>\n",
       "      <td>0.005878</td>\n",
       "    </tr>\n",
       "    <tr>\n",
       "      <th>266</th>\n",
       "      <td>26.369878</td>\n",
       "      <td>26.524957</td>\n",
       "      <td>0.005881</td>\n",
       "    </tr>\n",
       "    <tr>\n",
       "      <th>267</th>\n",
       "      <td>26.436086</td>\n",
       "      <td>26.591618</td>\n",
       "      <td>0.005883</td>\n",
       "    </tr>\n",
       "    <tr>\n",
       "      <th>268</th>\n",
       "      <td>26.437621</td>\n",
       "      <td>26.593168</td>\n",
       "      <td>0.005884</td>\n",
       "    </tr>\n",
       "    <tr>\n",
       "      <th>269</th>\n",
       "      <td>26.394272</td>\n",
       "      <td>26.549279</td>\n",
       "      <td>0.005873</td>\n",
       "    </tr>\n",
       "    <tr>\n",
       "      <th>270</th>\n",
       "      <td>26.228072</td>\n",
       "      <td>26.380849</td>\n",
       "      <td>0.005825</td>\n",
       "    </tr>\n",
       "  </tbody>\n",
       "</table>\n",
       "</div>"
      ],
      "text/plain": [
       "            dr         sr      diff\n",
       "240        NaN  26.133498       NaN\n",
       "241        NaN  26.203896       NaN\n",
       "242        NaN  26.266631       NaN\n",
       "243        NaN  26.125989       NaN\n",
       "244        NaN  26.199303       NaN\n",
       "245        NaN  26.236319       NaN\n",
       "246        NaN  26.302573       NaN\n",
       "247        NaN  26.369789       NaN\n",
       "248        NaN  26.440683       NaN\n",
       "249        NaN  26.483762       NaN\n",
       "250        NaN  26.441762       NaN\n",
       "251  26.343916  26.504794  0.006107\n",
       "252  26.407181  26.568023  0.006091\n",
       "253  26.464669  26.626064  0.006099\n",
       "254  26.504130  26.665953  0.006106\n",
       "255  26.574579  26.736835  0.006106\n",
       "256  26.644663  26.807373  0.006107\n",
       "257  26.578503  26.740341  0.006089\n",
       "258  26.584755  26.746665  0.006090\n",
       "259  26.544732  26.706126  0.006080\n",
       "260  26.547846  26.707580  0.006017\n",
       "261  26.569434  26.727992  0.005968\n",
       "262  26.631285  26.789839  0.005954\n",
       "263  26.598143  26.756284  0.005946\n",
       "264  26.495630  26.652421  0.005918\n",
       "265  26.354905  26.509816  0.005878\n",
       "266  26.369878  26.524957  0.005881\n",
       "267  26.436086  26.591618  0.005883\n",
       "268  26.437621  26.593168  0.005884\n",
       "269  26.394272  26.549279  0.005873\n",
       "270  26.228072  26.380849  0.005825"
      ]
     },
     "execution_count": 19,
     "metadata": {},
     "output_type": "execute_result"
    }
   ],
   "source": [
    "comp_df.loc[240:270]"
   ]
  },
  {
   "cell_type": "code",
   "execution_count": 20,
   "metadata": {
    "collapsed": true
   },
   "outputs": [],
   "source": [
    "valid_diff = comp_df.loc[251:, 'diff']"
   ]
  },
  {
   "cell_type": "code",
   "execution_count": 21,
   "metadata": {
    "collapsed": false
   },
   "outputs": [
    {
     "data": {
      "text/plain": [
       "count    29749.000000\n",
       "mean         0.000453\n",
       "std          0.000650\n",
       "min          0.000131\n",
       "25%          0.000168\n",
       "50%          0.000236\n",
       "75%          0.000427\n",
       "max          0.006107\n",
       "Name: diff, dtype: float64"
      ]
     },
     "execution_count": 21,
     "metadata": {},
     "output_type": "execute_result"
    }
   ],
   "source": [
    "valid_diff.describe()"
   ]
  },
  {
   "cell_type": "code",
   "execution_count": 22,
   "metadata": {
    "collapsed": false
   },
   "outputs": [
    {
     "data": {
      "text/plain": [
       "<matplotlib.axes._subplots.AxesSubplot at 0x7fc74e1c9b70>"
      ]
     },
     "execution_count": 22,
     "metadata": {},
     "output_type": "execute_result"
    },
    {
     "data": {
      "image/png": "[encoded data removed]",
      "text/plain": [
       "<matplotlib.figure.Figure at 0x7fc74e1c1320>"
      ]
     },
     "metadata": {},
     "output_type": "display_data"
    }
   ],
   "source": [
    "valid_diff.plot()"
   ]
  },
  {
   "cell_type": "code",
   "execution_count": 42,
   "metadata": {
    "collapsed": false
   },
   "outputs": [
    {
     "name": "stderr",
     "output_type": "stream",
     "text": [
      "/home/miguel/anaconda3/envs/cap_env/lib/python3.6/site-packages/ipykernel_launcher.py:2: RuntimeWarning: divide by zero encountered in double_scalars\n",
      "  \n"
     ]
    },
    {
     "data": {
      "text/plain": [
       "[inf,\n",
       " 42.361042902072562,\n",
       " 49.698683383150183,\n",
       " 58.114222006911135,\n",
       " 64.801372942475766,\n",
       " 45.332353689168677,\n",
       " 48.656641075709679,\n",
       " 45.123575694588631,\n",
       " 46.113045516993559]"
      ]
     },
     "execution_count": 42,
     "metadata": {},
     "output_type": "execute_result"
    }
   ],
   "source": [
    "sr_val = []\n",
    "for i in range(1,10):\n",
    "    sr_n = sharpe_ratio(daily[:i], sampling_frequency=252, daily_rfr=0)\n",
    "    sr_val.append(sr_n)\n",
    "sr_val"
   ]
  },
  {
   "cell_type": "code",
   "execution_count": 35,
   "metadata": {
    "collapsed": false
   },
   "outputs": [
    {
     "name": "stderr",
     "output_type": "stream",
     "text": [
      "/home/miguel/anaconda3/envs/cap_env/lib/python3.6/site-packages/ipykernel_launcher.py:4: RuntimeWarning: divide by zero encountered in double_scalars\n",
      "  after removing the cwd from sys.path.\n"
     ]
    },
    {
     "data": {
      "text/plain": [
       "[inf,\n",
       " 42.361042902072562,\n",
       " 57.186051951737284,\n",
       " 70.509383646938986,\n",
       " 79.678421785114736,\n",
       " 48.122972028646885,\n",
       " 52.014394319175715,\n",
       " 48.084260742838296,\n",
       " 49.408531378879744,\n",
       " 45.04157832471666]"
      ]
     },
     "execution_count": 35,
     "metadata": {},
     "output_type": "execute_result"
    }
   ],
   "source": [
    "mu = 0.0\n",
    "std = 0.0\n",
    "sr = []\n",
    "for i in range(10):\n",
    "    sr_n, mu, std = update_sharpe(mu_prev=mu, std_prev=std, x_n=daily[i], n=i+1, f_s=252.0)\n",
    "    sr.append(sr_n)\n",
    "sr"
   ]
  },
  {
   "cell_type": "code",
   "execution_count": null,
   "metadata": {
    "collapsed": true
   },
   "outputs": [],
   "source": []
  },
  {
   "cell_type": "code",
   "execution_count": 46,
   "metadata": {
    "collapsed": false
   },
   "outputs": [
    {
     "data": {
      "text/plain": [
       "[0.27855465266278201,\n",
       " 0.44550431289416303,\n",
       " 0.4313424421933536,\n",
       " 0.44219056766502229,\n",
       " 0.45674471700401814,\n",
       " 0.52513032412954996,\n",
       " 0.54695934043852479,\n",
       " 0.51899684754496078,\n",
       " 0.50805769887570951,\n",
       " 0.48363294436201237]"
      ]
     },
     "execution_count": 46,
     "metadata": {},
     "output_type": "execute_result"
    }
   ],
   "source": [
    "mu_n = 0.0\n",
    "mu = []\n",
    "for i in range(10):\n",
    "    mu_n = update_mean(mu_n, daily[i], i+1)\n",
    "    mu.append(mu_n)\n",
    "mu"
   ]
  },
  {
   "cell_type": "code",
   "execution_count": 50,
   "metadata": {
    "collapsed": false
   },
   "outputs": [
    {
     "data": {
      "text/plain": [
       "[0.27855465266278201,\n",
       " 0.44550431289416303,\n",
       " 0.4313424421933536,\n",
       " 0.44219056766502229,\n",
       " 0.45674471700401814,\n",
       " 0.52513032412954996,\n",
       " 0.54695934043852479,\n",
       " 0.51899684754496078,\n",
       " 0.50805769887570951,\n",
       " 0.48363294436201237]"
      ]
     },
     "execution_count": 50,
     "metadata": {},
     "output_type": "execute_result"
    }
   ],
   "source": [
    "mu_val = []\n",
    "for i in range(10):\n",
    "    mu_val.append(np.mean(daily[:i+1]))\n",
    "mu_val"
   ]
  },
  {
   "cell_type": "code",
   "execution_count": 53,
   "metadata": {
    "collapsed": false
   },
   "outputs": [
    {
     "data": {
      "text/plain": [
       "(array([], dtype=int64),)"
      ]
     },
     "execution_count": 53,
     "metadata": {},
     "output_type": "execute_result"
    }
   ],
   "source": [
    "(np.array(mu_val) - np.array(mu)).nonzero()"
   ]
  },
  {
   "cell_type": "code",
   "execution_count": 63,
   "metadata": {
    "collapsed": false
   },
   "outputs": [
    {
     "data": {
      "text/plain": [
       "[0.0,\n",
       " 0.16694966023138103,\n",
       " 0.13777727146040913,\n",
       " 0.12078898077661578,\n",
       " 0.1118895676708517,\n",
       " 0.18389041783341065,\n",
       " 0.17844861791579936,\n",
       " 0.18258348129913038,\n",
       " 0.1748998758802221,\n",
       " 0.18138381301018761]"
      ]
     },
     "execution_count": 63,
     "metadata": {},
     "output_type": "execute_result"
    }
   ],
   "source": [
    "std_n = 0.0\n",
    "mu_n = 0.0\n",
    "std = []\n",
    "for i in range(10):\n",
    "    mu_prev = mu_n\n",
    "    mu_n = update_mean(mu_n, daily[i], i+1)\n",
    "    std_n = update_std(std_n, mu_prev, daily[i], i+1, mu_n)    \n",
    "    std.append(std_n)\n",
    "std"
   ]
  },
  {
   "cell_type": "code",
   "execution_count": 64,
   "metadata": {
    "collapsed": false
   },
   "outputs": [
    {
     "name": "stderr",
     "output_type": "stream",
     "text": [
      "/home/miguel/anaconda3/envs/cap_env/lib/python3.6/site-packages/numpy/core/_methods.py:135: RuntimeWarning: Degrees of freedom <= 0 for slice\n",
      "  keepdims=keepdims)\n",
      "/home/miguel/anaconda3/envs/cap_env/lib/python3.6/site-packages/numpy/core/_methods.py:127: RuntimeWarning: invalid value encountered in double_scalars\n",
      "  ret = ret.dtype.type(ret / rcount)\n"
     ]
    },
    {
     "data": {
      "text/plain": [
       "[nan,\n",
       " 0.23610247373279919,\n",
       " 0.16874200661546282,\n",
       " 0.13947510113303929,\n",
       " 0.1250963396425436,\n",
       " 0.20144185991281854,\n",
       " 0.19274653678359246,\n",
       " 0.19518995185879798,\n",
       " 0.18550933239538578,\n",
       " 0.19119532659942495]"
      ]
     },
     "execution_count": 64,
     "metadata": {},
     "output_type": "execute_result"
    }
   ],
   "source": [
    "std_val = []\n",
    "for i in range(10):\n",
    "    std_val.append(np.std(daily[:i+1], ddof=1))\n",
    "std_val"
   ]
  },
  {
   "cell_type": "code",
   "execution_count": 65,
   "metadata": {
    "collapsed": true
   },
   "outputs": [],
   "source": [
    "from utils.running_stats import RunningStats"
   ]
  },
  {
   "cell_type": "code",
   "execution_count": 66,
   "metadata": {
    "collapsed": true
   },
   "outputs": [],
   "source": [
    "rstats = RunningStats()"
   ]
  },
  {
   "cell_type": "code",
   "execution_count": 67,
   "metadata": {
    "collapsed": false
   },
   "outputs": [
    {
     "data": {
      "text/plain": [
       "[0.0,\n",
       " 0.2361024737327992,\n",
       " 0.16874200661546282,\n",
       " 0.1394751011330393,\n",
       " 0.1250963396425436,\n",
       " 0.20144185991281854,\n",
       " 0.19274653678359246,\n",
       " 0.19518995185879798,\n",
       " 0.18550933239538578,\n",
       " 0.19119532659942495]"
      ]
     },
     "execution_count": 67,
     "metadata": {},
     "output_type": "execute_result"
    }
   ],
   "source": [
    "std_val2 = []\n",
    "for i in range(10):\n",
    "    rstats.push(daily[i])\n",
    "    std_val2.append(rstats.standard_deviation())\n",
    "std_val2"
   ]
  },
  {
   "cell_type": "code",
   "execution_count": null,
   "metadata": {
    "collapsed": true
   },
   "outputs": [],
   "source": []
  }
 ],
 "metadata": {
  "kernelspec": {
   "display_name": "cap_env",
   "language": "python",
   "name": "cap_env"
  },
  "language_info": {
   "codemirror_mode": {
    "name": "ipython",
    "version": 3
   },
   "file_extension": ".py",
   "mimetype": "text/x-python",
   "name": "python",
   "nbconvert_exporter": "python",
   "pygments_lexer": "ipython3",
   "version": "3.6.1"
  }
 },
 "nbformat": 4,
 "nbformat_minor": 2
}
