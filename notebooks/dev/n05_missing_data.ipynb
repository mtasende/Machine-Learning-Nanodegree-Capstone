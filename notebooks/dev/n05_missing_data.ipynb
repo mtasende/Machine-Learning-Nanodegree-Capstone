{
 "cells": [
  {
   "cell_type": "markdown",
   "metadata": {},
   "source": [
    "# Special care should be taken with missing data on this problem."
   ]
  },
  {
   "cell_type": "markdown",
   "metadata": {},
   "source": [
    "Missing data shall never be filled in the target variable, or the results evaluation would be corrupted. That is a risk on this problem, if things are done without care, because the target variable and the features are the same, only time-shifted.\n",
    "\n",
    "First forward and then backwards fill is the best way to try to keep causality as much as possible.\n",
    "\n",
    "Some filtering of symbols that have a lot of missing data could help, or the predictor may find itself full of constant data.\n",
    "\n",
    "Filling missing data and dropping \"bad samples\" can be done in two or three levels: In the total data level, in the training time level, or in the base samples level. The differences are probably small for the filling part, but may be significant when dropping samples. "
   ]
  },
  {
   "cell_type": "code",
   "execution_count": 1,
   "metadata": {
    "collapsed": false
   },
   "outputs": [
    {
     "name": "stdout",
     "output_type": "stream",
     "text": [
      "Populating the interactive namespace from numpy and matplotlib\n"
     ]
    }
   ],
   "source": [
    "import os\n",
    "import pandas as pd\n",
    "import matplotlib.pyplot as plt\n",
    "import numpy as np\n",
    "import datetime as dt\n",
    "import scipy.optimize as spo\n",
    "import sys\n",
    "from time import time\n",
    "from sklearn.metrics import r2_score, median_absolute_error\n",
    "\n",
    "%matplotlib inline\n",
    "\n",
    "%pylab inline\n",
    "pylab.rcParams['figure.figsize'] = (20.0, 10.0)\n",
    "\n",
    "%load_ext autoreload\n",
    "%autoreload 2\n",
    "\n",
    "sys.path.append('../../')"
   ]
  },
  {
   "cell_type": "code",
   "execution_count": 2,
   "metadata": {
    "collapsed": true
   },
   "outputs": [],
   "source": [
    "from utils import preprocessing as pp"
   ]
  },
  {
   "cell_type": "code",
   "execution_count": 3,
   "metadata": {
    "collapsed": true
   },
   "outputs": [],
   "source": [
    "data_df = pd.read_pickle('../../data/data_train_val_df.pkl')"
   ]
  },
  {
   "cell_type": "code",
   "execution_count": 4,
   "metadata": {
    "collapsed": false
   },
   "outputs": [
    {
     "name": "stdout",
     "output_type": "stream",
     "text": [
      "(5520, 2415)\n"
     ]
    },
    {
     "data": {
      "text/html": [
       "<div>\n",
       "<style>\n",
       "    .dataframe thead tr:only-child th {\n",
       "        text-align: right;\n",
       "    }\n",
       "\n",
       "    .dataframe thead th {\n",
       "        text-align: left;\n",
       "    }\n",
       "\n",
       "    .dataframe tbody tr th {\n",
       "        vertical-align: top;\n",
       "    }\n",
       "</style>\n",
       "<table border=\"1\" class=\"dataframe\">\n",
       "  <thead>\n",
       "    <tr>\n",
       "      <th>feature</th>\n",
       "      <th colspan=\"10\" halign=\"left\">Close</th>\n",
       "      <th>...</th>\n",
       "      <th colspan=\"10\" halign=\"left\">Volume</th>\n",
       "    </tr>\n",
       "    <tr>\n",
       "      <th></th>\n",
       "      <th>SPY</th>\n",
       "      <th>MMM</th>\n",
       "      <th>ABT</th>\n",
       "      <th>ABBV</th>\n",
       "      <th>ACN</th>\n",
       "      <th>ATVI</th>\n",
       "      <th>AYI</th>\n",
       "      <th>ADBE</th>\n",
       "      <th>AMD</th>\n",
       "      <th>AAP</th>\n",
       "      <th>...</th>\n",
       "      <th>WYNN</th>\n",
       "      <th>XEL</th>\n",
       "      <th>XRX</th>\n",
       "      <th>XLNX</th>\n",
       "      <th>XYL</th>\n",
       "      <th>YHOO</th>\n",
       "      <th>YUM</th>\n",
       "      <th>ZBH</th>\n",
       "      <th>ZION</th>\n",
       "      <th>ZTS</th>\n",
       "    </tr>\n",
       "    <tr>\n",
       "      <th>date</th>\n",
       "      <th></th>\n",
       "      <th></th>\n",
       "      <th></th>\n",
       "      <th></th>\n",
       "      <th></th>\n",
       "      <th></th>\n",
       "      <th></th>\n",
       "      <th></th>\n",
       "      <th></th>\n",
       "      <th></th>\n",
       "      <th></th>\n",
       "      <th></th>\n",
       "      <th></th>\n",
       "      <th></th>\n",
       "      <th></th>\n",
       "      <th></th>\n",
       "      <th></th>\n",
       "      <th></th>\n",
       "      <th></th>\n",
       "      <th></th>\n",
       "      <th></th>\n",
       "    </tr>\n",
       "  </thead>\n",
       "  <tbody>\n",
       "    <tr>\n",
       "      <th>1993-01-29</th>\n",
       "      <td>43.94</td>\n",
       "      <td>24.50</td>\n",
       "      <td>6.88</td>\n",
       "      <td>NaN</td>\n",
       "      <td>NaN</td>\n",
       "      <td>NaN</td>\n",
       "      <td>NaN</td>\n",
       "      <td>2.59</td>\n",
       "      <td>18.75</td>\n",
       "      <td>NaN</td>\n",
       "      <td>...</td>\n",
       "      <td>NaN</td>\n",
       "      <td>87800.0</td>\n",
       "      <td>7633602.0</td>\n",
       "      <td>1745196.0</td>\n",
       "      <td>NaN</td>\n",
       "      <td>NaN</td>\n",
       "      <td>NaN</td>\n",
       "      <td>NaN</td>\n",
       "      <td>33600.0</td>\n",
       "      <td>NaN</td>\n",
       "    </tr>\n",
       "    <tr>\n",
       "      <th>1993-02-01</th>\n",
       "      <td>44.25</td>\n",
       "      <td>24.69</td>\n",
       "      <td>6.88</td>\n",
       "      <td>NaN</td>\n",
       "      <td>NaN</td>\n",
       "      <td>NaN</td>\n",
       "      <td>NaN</td>\n",
       "      <td>2.72</td>\n",
       "      <td>19.12</td>\n",
       "      <td>NaN</td>\n",
       "      <td>...</td>\n",
       "      <td>NaN</td>\n",
       "      <td>72400.0</td>\n",
       "      <td>3001200.0</td>\n",
       "      <td>3574800.0</td>\n",
       "      <td>NaN</td>\n",
       "      <td>NaN</td>\n",
       "      <td>NaN</td>\n",
       "      <td>NaN</td>\n",
       "      <td>32000.0</td>\n",
       "      <td>NaN</td>\n",
       "    </tr>\n",
       "    <tr>\n",
       "      <th>1993-02-02</th>\n",
       "      <td>44.34</td>\n",
       "      <td>24.72</td>\n",
       "      <td>6.53</td>\n",
       "      <td>NaN</td>\n",
       "      <td>NaN</td>\n",
       "      <td>NaN</td>\n",
       "      <td>NaN</td>\n",
       "      <td>2.84</td>\n",
       "      <td>20.25</td>\n",
       "      <td>NaN</td>\n",
       "      <td>...</td>\n",
       "      <td>NaN</td>\n",
       "      <td>242200.0</td>\n",
       "      <td>1388598.0</td>\n",
       "      <td>2652396.0</td>\n",
       "      <td>NaN</td>\n",
       "      <td>NaN</td>\n",
       "      <td>NaN</td>\n",
       "      <td>NaN</td>\n",
       "      <td>251600.0</td>\n",
       "      <td>NaN</td>\n",
       "    </tr>\n",
       "    <tr>\n",
       "      <th>1993-02-03</th>\n",
       "      <td>44.81</td>\n",
       "      <td>25.19</td>\n",
       "      <td>6.91</td>\n",
       "      <td>NaN</td>\n",
       "      <td>NaN</td>\n",
       "      <td>NaN</td>\n",
       "      <td>NaN</td>\n",
       "      <td>2.70</td>\n",
       "      <td>20.50</td>\n",
       "      <td>NaN</td>\n",
       "      <td>...</td>\n",
       "      <td>NaN</td>\n",
       "      <td>272200.0</td>\n",
       "      <td>1228200.0</td>\n",
       "      <td>5040396.0</td>\n",
       "      <td>NaN</td>\n",
       "      <td>NaN</td>\n",
       "      <td>NaN</td>\n",
       "      <td>NaN</td>\n",
       "      <td>254800.0</td>\n",
       "      <td>NaN</td>\n",
       "    </tr>\n",
       "    <tr>\n",
       "      <th>1993-02-04</th>\n",
       "      <td>45.00</td>\n",
       "      <td>26.06</td>\n",
       "      <td>6.84</td>\n",
       "      <td>NaN</td>\n",
       "      <td>NaN</td>\n",
       "      <td>NaN</td>\n",
       "      <td>NaN</td>\n",
       "      <td>2.73</td>\n",
       "      <td>20.12</td>\n",
       "      <td>NaN</td>\n",
       "      <td>...</td>\n",
       "      <td>NaN</td>\n",
       "      <td>162800.0</td>\n",
       "      <td>1675602.0</td>\n",
       "      <td>7033200.0</td>\n",
       "      <td>NaN</td>\n",
       "      <td>NaN</td>\n",
       "      <td>NaN</td>\n",
       "      <td>NaN</td>\n",
       "      <td>317200.0</td>\n",
       "      <td>NaN</td>\n",
       "    </tr>\n",
       "  </tbody>\n",
       "</table>\n",
       "<p>5 rows × 2415 columns</p>\n",
       "</div>"
      ],
      "text/plain": [
       "feature     Close                                                 ... Volume  \\\n",
       "              SPY    MMM   ABT ABBV ACN ATVI AYI  ADBE    AMD AAP ...   WYNN   \n",
       "date                                                              ...          \n",
       "1993-01-29  43.94  24.50  6.88  NaN NaN  NaN NaN  2.59  18.75 NaN ...    NaN   \n",
       "1993-02-01  44.25  24.69  6.88  NaN NaN  NaN NaN  2.72  19.12 NaN ...    NaN   \n",
       "1993-02-02  44.34  24.72  6.53  NaN NaN  NaN NaN  2.84  20.25 NaN ...    NaN   \n",
       "1993-02-03  44.81  25.19  6.91  NaN NaN  NaN NaN  2.70  20.50 NaN ...    NaN   \n",
       "1993-02-04  45.00  26.06  6.84  NaN NaN  NaN NaN  2.73  20.12 NaN ...    NaN   \n",
       "\n",
       "feature                                                                    \n",
       "                 XEL        XRX       XLNX XYL YHOO YUM ZBH      ZION ZTS  \n",
       "date                                                                       \n",
       "1993-01-29   87800.0  7633602.0  1745196.0 NaN  NaN NaN NaN   33600.0 NaN  \n",
       "1993-02-01   72400.0  3001200.0  3574800.0 NaN  NaN NaN NaN   32000.0 NaN  \n",
       "1993-02-02  242200.0  1388598.0  2652396.0 NaN  NaN NaN NaN  251600.0 NaN  \n",
       "1993-02-03  272200.0  1228200.0  5040396.0 NaN  NaN NaN NaN  254800.0 NaN  \n",
       "1993-02-04  162800.0  1675602.0  7033200.0 NaN  NaN NaN NaN  317200.0 NaN  \n",
       "\n",
       "[5 rows x 2415 columns]"
      ]
     },
     "execution_count": 4,
     "metadata": {},
     "output_type": "execute_result"
    }
   ],
   "source": [
    "print(data_df.shape)\n",
    "data_df.head()"
   ]
  },
  {
   "cell_type": "code",
   "execution_count": 5,
   "metadata": {
    "collapsed": false
   },
   "outputs": [
    {
     "data": {
      "text/plain": [
       "2"
      ]
     },
     "execution_count": 5,
     "metadata": {},
     "output_type": "execute_result"
    }
   ],
   "source": [
    "data_df.columns.nlevels"
   ]
  },
  {
   "cell_type": "markdown",
   "metadata": {},
   "source": [
    "## Let's first filter at the symbol level"
   ]
  },
  {
   "cell_type": "code",
   "execution_count": 6,
   "metadata": {
    "collapsed": false
   },
   "outputs": [
    {
     "data": {
      "text/plain": [
       "(5520, 483)"
      ]
     },
     "execution_count": 6,
     "metadata": {},
     "output_type": "execute_result"
    }
   ],
   "source": [
    "data_df['Close'].shape"
   ]
  },
  {
   "cell_type": "code",
   "execution_count": 7,
   "metadata": {
    "collapsed": false
   },
   "outputs": [
    {
     "data": {
      "text/plain": [
       "<matplotlib.axes._subplots.AxesSubplot at 0x7f1c4d9ea828>"
      ]
     },
     "execution_count": 7,
     "metadata": {},
     "output_type": "execute_result"
    },
    {
     "data": {
      "image/png": "[encoded data removed]",
      "text/plain": [
       "<matplotlib.figure.Figure at 0x7f1c80516128>"
      ]
     },
     "metadata": {},
     "output_type": "display_data"
    }
   ],
   "source": [
    "good_ratios = 1.0 - (data_df['Close'].isnull().sum()/ data_df['Close'].shape[0])\n",
    "good_ratios.sort_values(ascending=False).plot()"
   ]
  },
  {
   "cell_type": "code",
   "execution_count": 8,
   "metadata": {
    "collapsed": false
   },
   "outputs": [],
   "source": [
    "filtered_data_df = pp.drop_irrelevant_symbols(data_df['Close'], good_data_ratio=0.99)"
   ]
  },
  {
   "cell_type": "code",
   "execution_count": 9,
   "metadata": {
    "collapsed": false
   },
   "outputs": [
    {
     "data": {
      "text/plain": [
       "<matplotlib.axes._subplots.AxesSubplot at 0x7f1c4a628208>"
      ]
     },
     "execution_count": 9,
     "metadata": {},
     "output_type": "execute_result"
    },
    {
     "data": {
      "image/png": "[encoded data removed]",
      "text/plain": [
       "<matplotlib.figure.Figure at 0x7f1c4d9ead30>"
      ]
     },
     "metadata": {},
     "output_type": "display_data"
    }
   ],
   "source": [
    "good_ratios = 1.0 - (filtered_data_df.isnull().sum()/ filtered_data_df.shape[0])\n",
    "good_ratios.sort_values(ascending=False).plot()"
   ]
  },
  {
   "cell_type": "code",
   "execution_count": 10,
   "metadata": {
    "collapsed": false
   },
   "outputs": [
    {
     "data": {
      "text/plain": [
       "(5520, 285)"
      ]
     },
     "execution_count": 10,
     "metadata": {},
     "output_type": "execute_result"
    }
   ],
   "source": [
    "filtered_data_df.shape"
   ]
  },
  {
   "cell_type": "code",
   "execution_count": 11,
   "metadata": {
    "collapsed": false
   },
   "outputs": [
    {
     "data": {
      "text/html": [
       "<div>\n",
       "<style>\n",
       "    .dataframe thead tr:only-child th {\n",
       "        text-align: right;\n",
       "    }\n",
       "\n",
       "    .dataframe thead th {\n",
       "        text-align: left;\n",
       "    }\n",
       "\n",
       "    .dataframe tbody tr th {\n",
       "        vertical-align: top;\n",
       "    }\n",
       "</style>\n",
       "<table border=\"1\" class=\"dataframe\">\n",
       "  <thead>\n",
       "    <tr style=\"text-align: right;\">\n",
       "      <th></th>\n",
       "      <th>SPY</th>\n",
       "      <th>MMM</th>\n",
       "      <th>ABT</th>\n",
       "      <th>ADBE</th>\n",
       "      <th>AMD</th>\n",
       "      <th>AES</th>\n",
       "      <th>AET</th>\n",
       "      <th>AFL</th>\n",
       "      <th>APD</th>\n",
       "      <th>ALK</th>\n",
       "      <th>...</th>\n",
       "      <th>HCN</th>\n",
       "      <th>WDC</th>\n",
       "      <th>WY</th>\n",
       "      <th>WHR</th>\n",
       "      <th>WFM</th>\n",
       "      <th>WMB</th>\n",
       "      <th>XEL</th>\n",
       "      <th>XRX</th>\n",
       "      <th>XLNX</th>\n",
       "      <th>ZION</th>\n",
       "    </tr>\n",
       "    <tr>\n",
       "      <th>date</th>\n",
       "      <th></th>\n",
       "      <th></th>\n",
       "      <th></th>\n",
       "      <th></th>\n",
       "      <th></th>\n",
       "      <th></th>\n",
       "      <th></th>\n",
       "      <th></th>\n",
       "      <th></th>\n",
       "      <th></th>\n",
       "      <th></th>\n",
       "      <th></th>\n",
       "      <th></th>\n",
       "      <th></th>\n",
       "      <th></th>\n",
       "      <th></th>\n",
       "      <th></th>\n",
       "      <th></th>\n",
       "      <th></th>\n",
       "      <th></th>\n",
       "      <th></th>\n",
       "    </tr>\n",
       "  </thead>\n",
       "  <tbody>\n",
       "    <tr>\n",
       "      <th>1993-01-29</th>\n",
       "      <td>43.94</td>\n",
       "      <td>24.50</td>\n",
       "      <td>6.88</td>\n",
       "      <td>2.59</td>\n",
       "      <td>18.75</td>\n",
       "      <td>4.41</td>\n",
       "      <td>6.42</td>\n",
       "      <td>4.49</td>\n",
       "      <td>21.94</td>\n",
       "      <td>4.19</td>\n",
       "      <td>...</td>\n",
       "      <td>22.50</td>\n",
       "      <td>4.50</td>\n",
       "      <td>41.50</td>\n",
       "      <td>46.12</td>\n",
       "      <td>1.81</td>\n",
       "      <td>6.88</td>\n",
       "      <td>22.00</td>\n",
       "      <td>14.28</td>\n",
       "      <td>2.50</td>\n",
       "      <td>10.94</td>\n",
       "    </tr>\n",
       "    <tr>\n",
       "      <th>1993-02-01</th>\n",
       "      <td>44.25</td>\n",
       "      <td>24.69</td>\n",
       "      <td>6.88</td>\n",
       "      <td>2.72</td>\n",
       "      <td>19.12</td>\n",
       "      <td>4.53</td>\n",
       "      <td>6.64</td>\n",
       "      <td>4.52</td>\n",
       "      <td>22.38</td>\n",
       "      <td>4.19</td>\n",
       "      <td>...</td>\n",
       "      <td>23.00</td>\n",
       "      <td>4.50</td>\n",
       "      <td>42.00</td>\n",
       "      <td>46.50</td>\n",
       "      <td>1.78</td>\n",
       "      <td>7.00</td>\n",
       "      <td>22.19</td>\n",
       "      <td>14.09</td>\n",
       "      <td>2.62</td>\n",
       "      <td>11.06</td>\n",
       "    </tr>\n",
       "    <tr>\n",
       "      <th>1993-02-02</th>\n",
       "      <td>44.34</td>\n",
       "      <td>24.72</td>\n",
       "      <td>6.53</td>\n",
       "      <td>2.84</td>\n",
       "      <td>20.25</td>\n",
       "      <td>4.53</td>\n",
       "      <td>6.62</td>\n",
       "      <td>4.57</td>\n",
       "      <td>22.31</td>\n",
       "      <td>4.16</td>\n",
       "      <td>...</td>\n",
       "      <td>22.75</td>\n",
       "      <td>4.62</td>\n",
       "      <td>42.12</td>\n",
       "      <td>46.50</td>\n",
       "      <td>1.78</td>\n",
       "      <td>6.98</td>\n",
       "      <td>22.06</td>\n",
       "      <td>14.09</td>\n",
       "      <td>2.64</td>\n",
       "      <td>11.12</td>\n",
       "    </tr>\n",
       "    <tr>\n",
       "      <th>1993-02-03</th>\n",
       "      <td>44.81</td>\n",
       "      <td>25.19</td>\n",
       "      <td>6.91</td>\n",
       "      <td>2.70</td>\n",
       "      <td>20.50</td>\n",
       "      <td>4.49</td>\n",
       "      <td>6.50</td>\n",
       "      <td>4.65</td>\n",
       "      <td>22.69</td>\n",
       "      <td>4.22</td>\n",
       "      <td>...</td>\n",
       "      <td>23.25</td>\n",
       "      <td>4.69</td>\n",
       "      <td>42.00</td>\n",
       "      <td>47.12</td>\n",
       "      <td>1.81</td>\n",
       "      <td>6.84</td>\n",
       "      <td>22.38</td>\n",
       "      <td>14.03</td>\n",
       "      <td>2.68</td>\n",
       "      <td>11.25</td>\n",
       "    </tr>\n",
       "    <tr>\n",
       "      <th>1993-02-04</th>\n",
       "      <td>45.00</td>\n",
       "      <td>26.06</td>\n",
       "      <td>6.84</td>\n",
       "      <td>2.73</td>\n",
       "      <td>20.12</td>\n",
       "      <td>4.49</td>\n",
       "      <td>6.73</td>\n",
       "      <td>4.84</td>\n",
       "      <td>23.19</td>\n",
       "      <td>4.38</td>\n",
       "      <td>...</td>\n",
       "      <td>23.00</td>\n",
       "      <td>4.56</td>\n",
       "      <td>42.62</td>\n",
       "      <td>48.38</td>\n",
       "      <td>1.84</td>\n",
       "      <td>6.90</td>\n",
       "      <td>22.81</td>\n",
       "      <td>14.15</td>\n",
       "      <td>2.67</td>\n",
       "      <td>11.69</td>\n",
       "    </tr>\n",
       "  </tbody>\n",
       "</table>\n",
       "<p>5 rows × 285 columns</p>\n",
       "</div>"
      ],
      "text/plain": [
       "              SPY    MMM   ABT  ADBE    AMD   AES   AET   AFL    APD   ALK  \\\n",
       "date                                                                         \n",
       "1993-01-29  43.94  24.50  6.88  2.59  18.75  4.41  6.42  4.49  21.94  4.19   \n",
       "1993-02-01  44.25  24.69  6.88  2.72  19.12  4.53  6.64  4.52  22.38  4.19   \n",
       "1993-02-02  44.34  24.72  6.53  2.84  20.25  4.53  6.62  4.57  22.31  4.16   \n",
       "1993-02-03  44.81  25.19  6.91  2.70  20.50  4.49  6.50  4.65  22.69  4.22   \n",
       "1993-02-04  45.00  26.06  6.84  2.73  20.12  4.49  6.73  4.84  23.19  4.38   \n",
       "\n",
       "            ...      HCN   WDC     WY    WHR   WFM   WMB    XEL    XRX  XLNX  \\\n",
       "date        ...                                                                \n",
       "1993-01-29  ...    22.50  4.50  41.50  46.12  1.81  6.88  22.00  14.28  2.50   \n",
       "1993-02-01  ...    23.00  4.50  42.00  46.50  1.78  7.00  22.19  14.09  2.62   \n",
       "1993-02-02  ...    22.75  4.62  42.12  46.50  1.78  6.98  22.06  14.09  2.64   \n",
       "1993-02-03  ...    23.25  4.69  42.00  47.12  1.81  6.84  22.38  14.03  2.68   \n",
       "1993-02-04  ...    23.00  4.56  42.62  48.38  1.84  6.90  22.81  14.15  2.67   \n",
       "\n",
       "             ZION  \n",
       "date               \n",
       "1993-01-29  10.94  \n",
       "1993-02-01  11.06  \n",
       "1993-02-02  11.12  \n",
       "1993-02-03  11.25  \n",
       "1993-02-04  11.69  \n",
       "\n",
       "[5 rows x 285 columns]"
      ]
     },
     "execution_count": 11,
     "metadata": {},
     "output_type": "execute_result"
    }
   ],
   "source": [
    "filtered_data_df.head()"
   ]
  },
  {
   "cell_type": "code",
   "execution_count": 12,
   "metadata": {
    "collapsed": false
   },
   "outputs": [
    {
     "data": {
      "text/plain": [
       "CB       38\n",
       "MCHP     35\n",
       "INTU     30\n",
       "HUM      25\n",
       "MS       16\n",
       "GT        9\n",
       "CHK       5\n",
       "VRTX      2\n",
       "ZION      1\n",
       "PDCO      1\n",
       "PAYX      1\n",
       "PBCT      1\n",
       "CMCSA     1\n",
       "CSCO      1\n",
       "CTAS      1\n",
       "CINF      1\n",
       "QCOM      1\n",
       "COST      1\n",
       "CERN      1\n",
       "REGN      1\n",
       "CELG      1\n",
       "ROST      1\n",
       "CA        1\n",
       "SWKS      1\n",
       "BIIB      1\n",
       "BBBY      1\n",
       "PCAR      1\n",
       "XRAY      1\n",
       "CSX       1\n",
       "NTRS      1\n",
       "         ..\n",
       "MMC       0\n",
       "MAS       0\n",
       "PPG       0\n",
       "PNC       0\n",
       "PNW       0\n",
       "PCG       0\n",
       "PFE       0\n",
       "PKI       0\n",
       "PEP       0\n",
       "PH        0\n",
       "ORCL      0\n",
       "OKE       0\n",
       "OMC       0\n",
       "OXY       0\n",
       "NUE       0\n",
       "NOC       0\n",
       "NSC       0\n",
       "JWN       0\n",
       "NI        0\n",
       "NKE       0\n",
       "NEM       0\n",
       "MUR       0\n",
       "MSI       0\n",
       "MOS       0\n",
       "TAP       0\n",
       "MHK       0\n",
       "MRK       0\n",
       "MCD       0\n",
       "MKC       0\n",
       "SPY       0\n",
       "Length: 285, dtype: int64"
      ]
     },
     "execution_count": 12,
     "metadata": {},
     "output_type": "execute_result"
    }
   ],
   "source": [
    "filtered_data_df.isnull().sum().sort_values(ascending=False)"
   ]
  },
  {
   "cell_type": "markdown",
   "metadata": {},
   "source": [
    "### Let's try to filter the whole dataset using only the 'Close' values"
   ]
  },
  {
   "cell_type": "code",
   "execution_count": 13,
   "metadata": {
    "collapsed": false
   },
   "outputs": [],
   "source": [
    "good_data_ratio = 0.99\n",
    "FEATURE_OF_INTEREST = 'Close'\n",
    "\n",
    "filtered_data_df = data_df[FEATURE_OF_INTEREST].dropna(thresh=math.ceil(good_data_ratio*data_df[FEATURE_OF_INTEREST].shape[0]), axis=1)"
   ]
  },
  {
   "cell_type": "code",
   "execution_count": 14,
   "metadata": {
    "collapsed": false
   },
   "outputs": [
    {
     "data": {
      "text/html": [
       "<div>\n",
       "<style>\n",
       "    .dataframe thead tr:only-child th {\n",
       "        text-align: right;\n",
       "    }\n",
       "\n",
       "    .dataframe thead th {\n",
       "        text-align: left;\n",
       "    }\n",
       "\n",
       "    .dataframe tbody tr th {\n",
       "        vertical-align: top;\n",
       "    }\n",
       "</style>\n",
       "<table border=\"1\" class=\"dataframe\">\n",
       "  <thead>\n",
       "    <tr style=\"text-align: right;\">\n",
       "      <th></th>\n",
       "      <th>SPY</th>\n",
       "      <th>MMM</th>\n",
       "      <th>ABT</th>\n",
       "      <th>ADBE</th>\n",
       "      <th>AMD</th>\n",
       "      <th>AES</th>\n",
       "      <th>AET</th>\n",
       "      <th>AFL</th>\n",
       "      <th>APD</th>\n",
       "      <th>ALK</th>\n",
       "      <th>...</th>\n",
       "      <th>HCN</th>\n",
       "      <th>WDC</th>\n",
       "      <th>WY</th>\n",
       "      <th>WHR</th>\n",
       "      <th>WFM</th>\n",
       "      <th>WMB</th>\n",
       "      <th>XEL</th>\n",
       "      <th>XRX</th>\n",
       "      <th>XLNX</th>\n",
       "      <th>ZION</th>\n",
       "    </tr>\n",
       "    <tr>\n",
       "      <th>date</th>\n",
       "      <th></th>\n",
       "      <th></th>\n",
       "      <th></th>\n",
       "      <th></th>\n",
       "      <th></th>\n",
       "      <th></th>\n",
       "      <th></th>\n",
       "      <th></th>\n",
       "      <th></th>\n",
       "      <th></th>\n",
       "      <th></th>\n",
       "      <th></th>\n",
       "      <th></th>\n",
       "      <th></th>\n",
       "      <th></th>\n",
       "      <th></th>\n",
       "      <th></th>\n",
       "      <th></th>\n",
       "      <th></th>\n",
       "      <th></th>\n",
       "      <th></th>\n",
       "    </tr>\n",
       "  </thead>\n",
       "  <tbody>\n",
       "    <tr>\n",
       "      <th>1993-01-29</th>\n",
       "      <td>43.94</td>\n",
       "      <td>24.50</td>\n",
       "      <td>6.88</td>\n",
       "      <td>2.59</td>\n",
       "      <td>18.75</td>\n",
       "      <td>4.41</td>\n",
       "      <td>6.42</td>\n",
       "      <td>4.49</td>\n",
       "      <td>21.94</td>\n",
       "      <td>4.19</td>\n",
       "      <td>...</td>\n",
       "      <td>22.50</td>\n",
       "      <td>4.50</td>\n",
       "      <td>41.50</td>\n",
       "      <td>46.12</td>\n",
       "      <td>1.81</td>\n",
       "      <td>6.88</td>\n",
       "      <td>22.00</td>\n",
       "      <td>14.28</td>\n",
       "      <td>2.50</td>\n",
       "      <td>10.94</td>\n",
       "    </tr>\n",
       "    <tr>\n",
       "      <th>1993-02-01</th>\n",
       "      <td>44.25</td>\n",
       "      <td>24.69</td>\n",
       "      <td>6.88</td>\n",
       "      <td>2.72</td>\n",
       "      <td>19.12</td>\n",
       "      <td>4.53</td>\n",
       "      <td>6.64</td>\n",
       "      <td>4.52</td>\n",
       "      <td>22.38</td>\n",
       "      <td>4.19</td>\n",
       "      <td>...</td>\n",
       "      <td>23.00</td>\n",
       "      <td>4.50</td>\n",
       "      <td>42.00</td>\n",
       "      <td>46.50</td>\n",
       "      <td>1.78</td>\n",
       "      <td>7.00</td>\n",
       "      <td>22.19</td>\n",
       "      <td>14.09</td>\n",
       "      <td>2.62</td>\n",
       "      <td>11.06</td>\n",
       "    </tr>\n",
       "    <tr>\n",
       "      <th>1993-02-02</th>\n",
       "      <td>44.34</td>\n",
       "      <td>24.72</td>\n",
       "      <td>6.53</td>\n",
       "      <td>2.84</td>\n",
       "      <td>20.25</td>\n",
       "      <td>4.53</td>\n",
       "      <td>6.62</td>\n",
       "      <td>4.57</td>\n",
       "      <td>22.31</td>\n",
       "      <td>4.16</td>\n",
       "      <td>...</td>\n",
       "      <td>22.75</td>\n",
       "      <td>4.62</td>\n",
       "      <td>42.12</td>\n",
       "      <td>46.50</td>\n",
       "      <td>1.78</td>\n",
       "      <td>6.98</td>\n",
       "      <td>22.06</td>\n",
       "      <td>14.09</td>\n",
       "      <td>2.64</td>\n",
       "      <td>11.12</td>\n",
       "    </tr>\n",
       "    <tr>\n",
       "      <th>1993-02-03</th>\n",
       "      <td>44.81</td>\n",
       "      <td>25.19</td>\n",
       "      <td>6.91</td>\n",
       "      <td>2.70</td>\n",
       "      <td>20.50</td>\n",
       "      <td>4.49</td>\n",
       "      <td>6.50</td>\n",
       "      <td>4.65</td>\n",
       "      <td>22.69</td>\n",
       "      <td>4.22</td>\n",
       "      <td>...</td>\n",
       "      <td>23.25</td>\n",
       "      <td>4.69</td>\n",
       "      <td>42.00</td>\n",
       "      <td>47.12</td>\n",
       "      <td>1.81</td>\n",
       "      <td>6.84</td>\n",
       "      <td>22.38</td>\n",
       "      <td>14.03</td>\n",
       "      <td>2.68</td>\n",
       "      <td>11.25</td>\n",
       "    </tr>\n",
       "    <tr>\n",
       "      <th>1993-02-04</th>\n",
       "      <td>45.00</td>\n",
       "      <td>26.06</td>\n",
       "      <td>6.84</td>\n",
       "      <td>2.73</td>\n",
       "      <td>20.12</td>\n",
       "      <td>4.49</td>\n",
       "      <td>6.73</td>\n",
       "      <td>4.84</td>\n",
       "      <td>23.19</td>\n",
       "      <td>4.38</td>\n",
       "      <td>...</td>\n",
       "      <td>23.00</td>\n",
       "      <td>4.56</td>\n",
       "      <td>42.62</td>\n",
       "      <td>48.38</td>\n",
       "      <td>1.84</td>\n",
       "      <td>6.90</td>\n",
       "      <td>22.81</td>\n",
       "      <td>14.15</td>\n",
       "      <td>2.67</td>\n",
       "      <td>11.69</td>\n",
       "    </tr>\n",
       "  </tbody>\n",
       "</table>\n",
       "<p>5 rows × 285 columns</p>\n",
       "</div>"
      ],
      "text/plain": [
       "              SPY    MMM   ABT  ADBE    AMD   AES   AET   AFL    APD   ALK  \\\n",
       "date                                                                         \n",
       "1993-01-29  43.94  24.50  6.88  2.59  18.75  4.41  6.42  4.49  21.94  4.19   \n",
       "1993-02-01  44.25  24.69  6.88  2.72  19.12  4.53  6.64  4.52  22.38  4.19   \n",
       "1993-02-02  44.34  24.72  6.53  2.84  20.25  4.53  6.62  4.57  22.31  4.16   \n",
       "1993-02-03  44.81  25.19  6.91  2.70  20.50  4.49  6.50  4.65  22.69  4.22   \n",
       "1993-02-04  45.00  26.06  6.84  2.73  20.12  4.49  6.73  4.84  23.19  4.38   \n",
       "\n",
       "            ...      HCN   WDC     WY    WHR   WFM   WMB    XEL    XRX  XLNX  \\\n",
       "date        ...                                                                \n",
       "1993-01-29  ...    22.50  4.50  41.50  46.12  1.81  6.88  22.00  14.28  2.50   \n",
       "1993-02-01  ...    23.00  4.50  42.00  46.50  1.78  7.00  22.19  14.09  2.62   \n",
       "1993-02-02  ...    22.75  4.62  42.12  46.50  1.78  6.98  22.06  14.09  2.64   \n",
       "1993-02-03  ...    23.25  4.69  42.00  47.12  1.81  6.84  22.38  14.03  2.68   \n",
       "1993-02-04  ...    23.00  4.56  42.62  48.38  1.84  6.90  22.81  14.15  2.67   \n",
       "\n",
       "             ZION  \n",
       "date               \n",
       "1993-01-29  10.94  \n",
       "1993-02-01  11.06  \n",
       "1993-02-02  11.12  \n",
       "1993-02-03  11.25  \n",
       "1993-02-04  11.69  \n",
       "\n",
       "[5 rows x 285 columns]"
      ]
     },
     "execution_count": 14,
     "metadata": {},
     "output_type": "execute_result"
    }
   ],
   "source": [
    "filtered_data_df.head()"
   ]
  },
  {
   "cell_type": "code",
   "execution_count": 15,
   "metadata": {
    "collapsed": false
   },
   "outputs": [
    {
     "data": {
      "text/plain": [
       "Index(['SPY', 'MMM', 'ABT', 'ADBE', 'AMD', 'AES', 'AET', 'AFL', 'APD', 'ALK',\n",
       "       ...\n",
       "       'HCN', 'WDC', 'WY', 'WHR', 'WFM', 'WMB', 'XEL', 'XRX', 'XLNX', 'ZION'],\n",
       "      dtype='object', length=285)"
      ]
     },
     "execution_count": 15,
     "metadata": {},
     "output_type": "execute_result"
    }
   ],
   "source": [
    "filtered_data_df.columns"
   ]
  },
  {
   "cell_type": "code",
   "execution_count": 16,
   "metadata": {
    "collapsed": false
   },
   "outputs": [],
   "source": [
    "fdata_df = data_df.loc[:,(slice(None),filtered_data_df.columns.tolist())]"
   ]
  },
  {
   "cell_type": "code",
   "execution_count": 17,
   "metadata": {
    "collapsed": false
   },
   "outputs": [],
   "source": [
    "new_cols = fdata_df.columns.get_level_values(1)"
   ]
  },
  {
   "cell_type": "code",
   "execution_count": 18,
   "metadata": {
    "collapsed": false
   },
   "outputs": [
    {
     "data": {
      "text/plain": [
       "array([], dtype=object)"
      ]
     },
     "execution_count": 18,
     "metadata": {},
     "output_type": "execute_result"
    }
   ],
   "source": [
    "np.setdiff1d(new_cols, filtered_data_df.columns)"
   ]
  },
  {
   "cell_type": "code",
   "execution_count": 19,
   "metadata": {
    "collapsed": false
   },
   "outputs": [
    {
     "data": {
      "text/plain": [
       "array([], dtype=object)"
      ]
     },
     "execution_count": 19,
     "metadata": {},
     "output_type": "execute_result"
    }
   ],
   "source": [
    "np.setdiff1d(filtered_data_df.columns, new_cols)"
   ]
  },
  {
   "cell_type": "code",
   "execution_count": 20,
   "metadata": {
    "collapsed": false
   },
   "outputs": [
    {
     "data": {
      "text/plain": [
       "(285,)"
      ]
     },
     "execution_count": 20,
     "metadata": {},
     "output_type": "execute_result"
    }
   ],
   "source": [
    "np.intersect1d(filtered_data_df.columns, new_cols).shape"
   ]
  },
  {
   "cell_type": "code",
   "execution_count": 21,
   "metadata": {
    "collapsed": false
   },
   "outputs": [
    {
     "data": {
      "text/plain": [
       "(285,)"
      ]
     },
     "execution_count": 21,
     "metadata": {},
     "output_type": "execute_result"
    }
   ],
   "source": [
    "filtered_data_df.columns.shape"
   ]
  },
  {
   "cell_type": "markdown",
   "metadata": {},
   "source": [
    "### Looks good to me... Let's test it on the full dataset"
   ]
  },
  {
   "cell_type": "code",
   "execution_count": 22,
   "metadata": {
    "collapsed": true
   },
   "outputs": [],
   "source": [
    "filtered_data_df = pp.drop_irrelevant_symbols(data_df, good_data_ratio=0.99)"
   ]
  },
  {
   "cell_type": "code",
   "execution_count": 23,
   "metadata": {
    "collapsed": false
   },
   "outputs": [
    {
     "data": {
      "text/plain": [
       "<matplotlib.axes._subplots.AxesSubplot at 0x7f1c4a1f3fd0>"
      ]
     },
     "execution_count": 23,
     "metadata": {},
     "output_type": "execute_result"
    },
    {
     "data": {
      "image/png": "[encoded data removed]",
      "text/plain": [
       "<matplotlib.figure.Figure at 0x7f1c4da2fc88>"
      ]
     },
     "metadata": {},
     "output_type": "display_data"
    }
   ],
   "source": [
    "good_ratios = 1.0 - (filtered_data_df['Close'].isnull().sum()/ filtered_data_df['Close'].shape[0])\n",
    "good_ratios.sort_values(ascending=False).plot()"
   ]
  },
  {
   "cell_type": "markdown",
   "metadata": {},
   "source": [
    "## Now, let's filter at the sample level"
   ]
  },
  {
   "cell_type": "code",
   "execution_count": 24,
   "metadata": {
    "collapsed": false
   },
   "outputs": [
    {
     "name": "stdout",
     "output_type": "stream",
     "text": [
      "Elapsed time: 53 seconds.\n"
     ]
    }
   ],
   "source": [
    "import predictor.feature_extraction as fe\n",
    "\n",
    "train_time = -1 # In real time days\n",
    "base_days = 7 # In market days\n",
    "step_days = 30 # market days\n",
    "ahead_days = 1 # market days\n",
    "today = data_df.index[-1] # Real date\n",
    "\n",
    "tic = time()\n",
    "x, y = fe.generate_train_intervals(data_df, \n",
    "                                   train_time, \n",
    "                                   base_days, \n",
    "                                   step_days, \n",
    "                                   ahead_days, \n",
    "                                   today, \n",
    "                                   fe.feature_close_one_to_one)\n",
    "toc = time()\n",
    "print('Elapsed time: %i seconds.' % (toc-tic))"
   ]
  },
  {
   "cell_type": "code",
   "execution_count": 25,
   "metadata": {
    "collapsed": false
   },
   "outputs": [
    {
     "data": {
      "text/plain": [
       "(73478, 7)"
      ]
     },
     "execution_count": 25,
     "metadata": {},
     "output_type": "execute_result"
    }
   ],
   "source": [
    "x.shape"
   ]
  },
  {
   "cell_type": "code",
   "execution_count": 26,
   "metadata": {
    "collapsed": false
   },
   "outputs": [
    {
     "data": {
      "text/plain": [
       "(73478, 1)"
      ]
     },
     "execution_count": 26,
     "metadata": {},
     "output_type": "execute_result"
    }
   ],
   "source": [
    "y.shape"
   ]
  },
  {
   "cell_type": "code",
   "execution_count": 27,
   "metadata": {
    "collapsed": false
   },
   "outputs": [],
   "source": [
    "x_y_df = pd.concat([x, y], axis=1)"
   ]
  },
  {
   "cell_type": "code",
   "execution_count": 28,
   "metadata": {
    "collapsed": false
   },
   "outputs": [
    {
     "data": {
      "text/plain": [
       "(73478, 8)"
      ]
     },
     "execution_count": 28,
     "metadata": {},
     "output_type": "execute_result"
    }
   ],
   "source": [
    "x_y_df.shape"
   ]
  },
  {
   "cell_type": "code",
   "execution_count": 29,
   "metadata": {
    "collapsed": false
   },
   "outputs": [
    {
     "data": {
      "text/html": [
       "<div>\n",
       "<style>\n",
       "    .dataframe thead tr:only-child th {\n",
       "        text-align: right;\n",
       "    }\n",
       "\n",
       "    .dataframe thead th {\n",
       "        text-align: left;\n",
       "    }\n",
       "\n",
       "    .dataframe tbody tr th {\n",
       "        vertical-align: top;\n",
       "    }\n",
       "</style>\n",
       "<table border=\"1\" class=\"dataframe\">\n",
       "  <thead>\n",
       "    <tr style=\"text-align: right;\">\n",
       "      <th></th>\n",
       "      <th></th>\n",
       "      <th>0</th>\n",
       "      <th>1</th>\n",
       "      <th>2</th>\n",
       "      <th>3</th>\n",
       "      <th>4</th>\n",
       "      <th>5</th>\n",
       "      <th>6</th>\n",
       "      <th>target</th>\n",
       "    </tr>\n",
       "  </thead>\n",
       "  <tbody>\n",
       "    <tr>\n",
       "      <th>2014-11-18</th>\n",
       "      <th>TSS</th>\n",
       "      <td>102.85</td>\n",
       "      <td>103.03</td>\n",
       "      <td>103.46</td>\n",
       "      <td>103.81</td>\n",
       "      <td>103.79</td>\n",
       "      <td>103.43</td>\n",
       "      <td>104.37</td>\n",
       "      <td>104.45</td>\n",
       "    </tr>\n",
       "    <tr>\n",
       "      <th>2011-06-03</th>\n",
       "      <th>MJN</th>\n",
       "      <td>48.19</td>\n",
       "      <td>48.51</td>\n",
       "      <td>48.68</td>\n",
       "      <td>48.79</td>\n",
       "      <td>48.92</td>\n",
       "      <td>48.25</td>\n",
       "      <td>48.78</td>\n",
       "      <td>49.35</td>\n",
       "    </tr>\n",
       "    <tr>\n",
       "      <th>2001-07-09</th>\n",
       "      <th>GOOGL</th>\n",
       "      <td>7.15</td>\n",
       "      <td>7.32</td>\n",
       "      <td>7.35</td>\n",
       "      <td>7.50</td>\n",
       "      <td>7.68</td>\n",
       "      <td>7.83</td>\n",
       "      <td>7.83</td>\n",
       "      <td>7.65</td>\n",
       "    </tr>\n",
       "    <tr>\n",
       "      <th>2014-01-21</th>\n",
       "      <th>STI</th>\n",
       "      <td>31.22</td>\n",
       "      <td>31.59</td>\n",
       "      <td>31.43</td>\n",
       "      <td>30.77</td>\n",
       "      <td>30.38</td>\n",
       "      <td>30.05</td>\n",
       "      <td>30.14</td>\n",
       "      <td>30.56</td>\n",
       "    </tr>\n",
       "    <tr>\n",
       "      <th>2008-03-17</th>\n",
       "      <th>ZBH</th>\n",
       "      <td>75.63</td>\n",
       "      <td>76.76</td>\n",
       "      <td>75.53</td>\n",
       "      <td>78.55</td>\n",
       "      <td>78.95</td>\n",
       "      <td>78.84</td>\n",
       "      <td>78.06</td>\n",
       "      <td>77.16</td>\n",
       "    </tr>\n",
       "  </tbody>\n",
       "</table>\n",
       "</div>"
      ],
      "text/plain": [
       "                       0       1       2       3       4       5       6  \\\n",
       "2014-11-18 TSS    102.85  103.03  103.46  103.81  103.79  103.43  104.37   \n",
       "2011-06-03 MJN     48.19   48.51   48.68   48.79   48.92   48.25   48.78   \n",
       "2001-07-09 GOOGL    7.15    7.32    7.35    7.50    7.68    7.83    7.83   \n",
       "2014-01-21 STI     31.22   31.59   31.43   30.77   30.38   30.05   30.14   \n",
       "2008-03-17 ZBH     75.63   76.76   75.53   78.55   78.95   78.84   78.06   \n",
       "\n",
       "                  target  \n",
       "2014-11-18 TSS    104.45  \n",
       "2011-06-03 MJN     49.35  \n",
       "2001-07-09 GOOGL    7.65  \n",
       "2014-01-21 STI     30.56  \n",
       "2008-03-17 ZBH     77.16  "
      ]
     },
     "execution_count": 29,
     "metadata": {},
     "output_type": "execute_result"
    }
   ],
   "source": [
    "x_y_df.head()"
   ]
  },
  {
   "cell_type": "code",
   "execution_count": 31,
   "metadata": {
    "collapsed": false
   },
   "outputs": [
    {
     "data": {
      "text/plain": [
       "312"
      ]
     },
     "execution_count": 31,
     "metadata": {},
     "output_type": "execute_result"
    }
   ],
   "source": [
    "x_y_df.isnull().sum(axis=1).sum()"
   ]
  },
  {
   "cell_type": "code",
   "execution_count": 41,
   "metadata": {
    "collapsed": true
   },
   "outputs": [],
   "source": [
    "import utils.preprocessing as pp"
   ]
  },
  {
   "cell_type": "code",
   "execution_count": 44,
   "metadata": {
    "collapsed": false
   },
   "outputs": [],
   "source": [
    "x_y_dropped_df = pp.drop_irrelevant_samples(x_y_df, -1)"
   ]
  },
  {
   "cell_type": "code",
   "execution_count": 45,
   "metadata": {
    "collapsed": false
   },
   "outputs": [
    {
     "data": {
      "text/plain": [
       "0"
      ]
     },
     "execution_count": 45,
     "metadata": {},
     "output_type": "execute_result"
    }
   ],
   "source": [
    "x_y_dropped_df.isnull().sum(axis=1).sum()"
   ]
  },
  {
   "cell_type": "code",
   "execution_count": 46,
   "metadata": {
    "collapsed": false
   },
   "outputs": [
    {
     "name": "stdout",
     "output_type": "stream",
     "text": [
      "(73308, 8)\n"
     ]
    },
    {
     "data": {
      "text/html": [
       "<div>\n",
       "<style>\n",
       "    .dataframe thead tr:only-child th {\n",
       "        text-align: right;\n",
       "    }\n",
       "\n",
       "    .dataframe thead th {\n",
       "        text-align: left;\n",
       "    }\n",
       "\n",
       "    .dataframe tbody tr th {\n",
       "        vertical-align: top;\n",
       "    }\n",
       "</style>\n",
       "<table border=\"1\" class=\"dataframe\">\n",
       "  <thead>\n",
       "    <tr style=\"text-align: right;\">\n",
       "      <th></th>\n",
       "      <th></th>\n",
       "      <th>0</th>\n",
       "      <th>1</th>\n",
       "      <th>2</th>\n",
       "      <th>3</th>\n",
       "      <th>4</th>\n",
       "      <th>5</th>\n",
       "      <th>6</th>\n",
       "      <th>target</th>\n",
       "    </tr>\n",
       "  </thead>\n",
       "  <tbody>\n",
       "    <tr>\n",
       "      <th rowspan=\"5\" valign=\"top\">1993-01-29</th>\n",
       "      <th>AAL</th>\n",
       "      <td>18.75</td>\n",
       "      <td>19.12</td>\n",
       "      <td>20.25</td>\n",
       "      <td>20.50</td>\n",
       "      <td>20.12</td>\n",
       "      <td>19.62</td>\n",
       "      <td>19.75</td>\n",
       "      <td>19.75</td>\n",
       "    </tr>\n",
       "    <tr>\n",
       "      <th>ABBV</th>\n",
       "      <td>2.12</td>\n",
       "      <td>2.19</td>\n",
       "      <td>2.15</td>\n",
       "      <td>2.14</td>\n",
       "      <td>2.12</td>\n",
       "      <td>2.04</td>\n",
       "      <td>2.02</td>\n",
       "      <td>2.03</td>\n",
       "    </tr>\n",
       "    <tr>\n",
       "      <th>ABC</th>\n",
       "      <td>2.62</td>\n",
       "      <td>2.62</td>\n",
       "      <td>2.56</td>\n",
       "      <td>2.62</td>\n",
       "      <td>2.69</td>\n",
       "      <td>2.62</td>\n",
       "      <td>2.44</td>\n",
       "      <td>2.44</td>\n",
       "    </tr>\n",
       "    <tr>\n",
       "      <th>ADI</th>\n",
       "      <td>21.94</td>\n",
       "      <td>22.38</td>\n",
       "      <td>22.31</td>\n",
       "      <td>22.69</td>\n",
       "      <td>23.19</td>\n",
       "      <td>24.00</td>\n",
       "      <td>23.25</td>\n",
       "      <td>22.75</td>\n",
       "    </tr>\n",
       "    <tr>\n",
       "      <th>ADP</th>\n",
       "      <td>15.25</td>\n",
       "      <td>15.25</td>\n",
       "      <td>15.06</td>\n",
       "      <td>15.56</td>\n",
       "      <td>15.69</td>\n",
       "      <td>15.81</td>\n",
       "      <td>15.75</td>\n",
       "      <td>15.69</td>\n",
       "    </tr>\n",
       "  </tbody>\n",
       "</table>\n",
       "</div>"
      ],
      "text/plain": [
       "                     0      1      2      3      4      5      6  target\n",
       "1993-01-29 AAL   18.75  19.12  20.25  20.50  20.12  19.62  19.75   19.75\n",
       "           ABBV   2.12   2.19   2.15   2.14   2.12   2.04   2.02    2.03\n",
       "           ABC    2.62   2.62   2.56   2.62   2.69   2.62   2.44    2.44\n",
       "           ADI   21.94  22.38  22.31  22.69  23.19  24.00  23.25   22.75\n",
       "           ADP   15.25  15.25  15.06  15.56  15.69  15.81  15.75   15.69"
      ]
     },
     "execution_count": 46,
     "metadata": {},
     "output_type": "execute_result"
    }
   ],
   "source": [
    "print(x_y_dropped_df.shape)\n",
    "x_y_dropped_df.head()"
   ]
  },
  {
   "cell_type": "code",
   "execution_count": null,
   "metadata": {
    "collapsed": true
   },
   "outputs": [],
   "source": []
  }
 ],
 "metadata": {
  "kernelspec": {
   "display_name": "cap_env",
   "language": "python",
   "name": "cap_env"
  },
  "language_info": {
   "codemirror_mode": {
    "name": "ipython",
    "version": 3
   },
   "file_extension": ".py",
   "mimetype": "text/x-python",
   "name": "python",
   "nbconvert_exporter": "python",
   "pygments_lexer": "ipython3",
   "version": "3.6.1"
  }
 },
 "nbformat": 4,
 "nbformat_minor": 2
}
